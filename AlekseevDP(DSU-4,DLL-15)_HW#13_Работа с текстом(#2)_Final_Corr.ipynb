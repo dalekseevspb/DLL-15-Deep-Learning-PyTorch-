{
 "cells": [
  {
   "cell_type": "markdown",
   "metadata": {
    "id": "WZNm6Oe5NYiz"
   },
   "source": [
    "## AlekseevDP(DSU-4,DLL-15)_HW#13_Работа с текстом(2)_Исправленное"
   ]
  },
  {
   "cell_type": "markdown",
   "metadata": {
    "id": "As6ZOCMJNhDP"
   },
   "source": [
    "## Задание: реализовать задачу классификации на основе BERT-like модели (п.1) и KNN (п.2) на данных \"Russian Intents Dataset\": https://www.kaggle.com/datasets/constantinwerner/qa-intents-dataset-university-domain\n",
    "\n",
    "## **Уточненное задание (по результатам проверки ДЗ преподавателем): 3. Обучение KNN на эмбеддингах из Bert-подобной сети, с использованием одной из библиотек nmslib/faiss/scann (соединение токенизации с берта и классификации с KNN).**"
   ]
  },
  {
   "cell_type": "markdown",
   "metadata": {
    "id": "929GkEzoJuFs"
   },
   "source": [
    "## 1. Классификация на основе BERT-like модели (используем pretrained-модель 'bert-base-multilingual-cased' с ресурса Huggingface)"
   ]
  },
  {
   "cell_type": "code",
   "execution_count": 1,
   "metadata": {
    "colab": {
     "base_uri": "https://localhost:8080/"
    },
    "id": "_DnO6gMHJk22",
    "outputId": "13b5125c-919e-4b8b-dff2-289ddc68545b"
   },
   "outputs": [
    {
     "name": "stdout",
     "output_type": "stream",
     "text": [
      "Looking in indexes: https://pypi.org/simple, https://us-python.pkg.dev/colab-wheels/public/simple/\n",
      "Collecting transformers\n",
      "  Downloading transformers-4.26.0-py3-none-any.whl (6.3 MB)\n",
      "\u001b[2K     \u001b[90m━━━━━━━━━━━━━━━━━━━━━━━━━━━━━━━━━━━━━━━━\u001b[0m \u001b[32m6.3/6.3 MB\u001b[0m \u001b[31m92.8 MB/s\u001b[0m eta \u001b[36m0:00:00\u001b[0m\n",
      "\u001b[?25hCollecting tokenizers!=0.11.3,<0.14,>=0.11.1\n",
      "  Downloading tokenizers-0.13.2-cp38-cp38-manylinux_2_17_x86_64.manylinux2014_x86_64.whl (7.6 MB)\n",
      "\u001b[2K     \u001b[90m━━━━━━━━━━━━━━━━━━━━━━━━━━━━━━━━━━━━━━━━\u001b[0m \u001b[32m7.6/7.6 MB\u001b[0m \u001b[31m97.9 MB/s\u001b[0m eta \u001b[36m0:00:00\u001b[0m\n",
      "\u001b[?25hRequirement already satisfied: pyyaml>=5.1 in /usr/local/lib/python3.8/dist-packages (from transformers) (6.0)\n",
      "Requirement already satisfied: requests in /usr/local/lib/python3.8/dist-packages (from transformers) (2.25.1)\n",
      "Requirement already satisfied: tqdm>=4.27 in /usr/local/lib/python3.8/dist-packages (from transformers) (4.64.1)\n",
      "Collecting huggingface-hub<1.0,>=0.11.0\n",
      "  Downloading huggingface_hub-0.12.0-py3-none-any.whl (190 kB)\n",
      "\u001b[2K     \u001b[90m━━━━━━━━━━━━━━━━━━━━━━━━━━━━━━━━━━━━━━\u001b[0m \u001b[32m190.3/190.3 KB\u001b[0m \u001b[31m28.0 MB/s\u001b[0m eta \u001b[36m0:00:00\u001b[0m\n",
      "\u001b[?25hRequirement already satisfied: packaging>=20.0 in /usr/local/lib/python3.8/dist-packages (from transformers) (21.3)\n",
      "Requirement already satisfied: regex!=2019.12.17 in /usr/local/lib/python3.8/dist-packages (from transformers) (2022.6.2)\n",
      "Requirement already satisfied: filelock in /usr/local/lib/python3.8/dist-packages (from transformers) (3.9.0)\n",
      "Requirement already satisfied: numpy>=1.17 in /usr/local/lib/python3.8/dist-packages (from transformers) (1.21.6)\n",
      "Requirement already satisfied: typing-extensions>=3.7.4.3 in /usr/local/lib/python3.8/dist-packages (from huggingface-hub<1.0,>=0.11.0->transformers) (4.4.0)\n",
      "Requirement already satisfied: pyparsing!=3.0.5,>=2.0.2 in /usr/local/lib/python3.8/dist-packages (from packaging>=20.0->transformers) (3.0.9)\n",
      "Requirement already satisfied: chardet<5,>=3.0.2 in /usr/local/lib/python3.8/dist-packages (from requests->transformers) (4.0.0)\n",
      "Requirement already satisfied: certifi>=2017.4.17 in /usr/local/lib/python3.8/dist-packages (from requests->transformers) (2022.12.7)\n",
      "Requirement already satisfied: idna<3,>=2.5 in /usr/local/lib/python3.8/dist-packages (from requests->transformers) (2.10)\n",
      "Requirement already satisfied: urllib3<1.27,>=1.21.1 in /usr/local/lib/python3.8/dist-packages (from requests->transformers) (1.24.3)\n",
      "Installing collected packages: tokenizers, huggingface-hub, transformers\n",
      "Successfully installed huggingface-hub-0.12.0 tokenizers-0.13.2 transformers-4.26.0\n"
     ]
    }
   ],
   "source": [
    "!pip install transformers"
   ]
  },
  {
   "cell_type": "markdown",
   "metadata": {
    "id": "DDBWGqAfMKjj"
   },
   "source": [
    "## Загрузим и проанализируем данные"
   ]
  },
  {
   "cell_type": "code",
   "execution_count": 2,
   "metadata": {
    "id": "WKpz4DXhMMYb"
   },
   "outputs": [],
   "source": [
    "import pandas as pd\n",
    "import numpy as np\n",
    "from transformers import TrainingArguments, Trainer"
   ]
  },
  {
   "cell_type": "code",
   "execution_count": 3,
   "metadata": {
    "colab": {
     "base_uri": "https://localhost:8080/"
    },
    "id": "RSWFcXwmMMVR",
    "outputId": "7c7bd76d-06b8-4787-fd70-54d11ccfbb5e"
   },
   "outputs": [
    {
     "name": "stdout",
     "output_type": "stream",
     "text": [
      "sched_teacher                1184\n",
      "sched_for_group               433\n",
      "sched_for_group_day           429\n",
      "wifi                          306\n",
      "status_free                   288\n",
      "                             ... \n",
      "trade_union_general            24\n",
      "student_trade_union_enter      23\n",
      "nsu_foundation_date            23\n",
      "location_general               21\n",
      "staff_trade_union_enter        21\n",
      "Name: intent, Length: 142, dtype: int64\n",
      "examples:\n",
      " взять справку\n",
      "где столовка в новом здании\n",
      "мне нужна справка ааа\n",
      "деканат фф расположен где\n"
     ]
    }
   ],
   "source": [
    "train=pd.read_csv('/content/dataset_train.tsv',delimiter='\\t',encoding=\"utf-8\",names=['text', 'intent'])\n",
    "test =pd.read_csv('/content/dataset_test.tsv',delimiter='\\t',encoding=\"utf-8\",names=['text', 'intent'])\n",
    "data = result = pd.concat([train,test])\n",
    "NUM_LABELS=len(set(data['intent']))\n",
    "labels=set(data['intent'])\n",
    "id2label = {i:label for i,label in enumerate(labels) if label != None}\n",
    "label2id = {label:i for i,label in enumerate(labels) if label != None}\n",
    "print(data['intent'].value_counts())\n",
    "print('examples:\\n',data['text'].iloc[2]+'\\n'+data['text'].iloc[929]+'\\n'+data['text'].iloc[24]+'\\n'+data['text'].iloc[1224])"
   ]
  },
  {
   "cell_type": "markdown",
   "metadata": {
    "id": "cjAm0VV6M94V"
   },
   "source": [
    "## Загрузим модель и токенизатор"
   ]
  },
  {
   "cell_type": "code",
   "execution_count": 4,
   "metadata": {
    "colab": {
     "base_uri": "https://localhost:8080/",
     "height": 457,
     "referenced_widgets": [
      "c2eab3ddde614c8787bfb494ec8a1324",
      "cc7f9d3c9b754021945f842fd9ea5678",
      "9e2c68466e324eb2a80fb17e666fefa4",
      "b261c45a827d4d17a9b9f303b27fc70c",
      "0796bd1a1178474084a3508086b7bc50",
      "bd187cf78fd5465da119f6a632531f8d",
      "0e41ee2406ed44379f1cd8c86eb96a1c",
      "d20aded60fab487888e0d1899ff022a9",
      "8351e6e3db704590be4aaea1b230e44e",
      "3cf04f92e59e4d0ea11e811220fcfb1f",
      "3ca6c6446a0e42c88fa180d2a692dd25",
      "f1c58b21e6d2403581583ce027d60404",
      "60208499c1bd4e6caddcce8b6dd5b0f7",
      "2f779394a4094a308703917991723f91",
      "616752760be7463bae3a8d9a47be9039",
      "40a5fbbfc5d74932bcd27b6f2d124a1d",
      "75a69c1ad409409d81489119d2b08cf2",
      "2e8b44d7dc50417a94ccd00e862a4baa",
      "2abbbfa5b4d74e6181aa2ffdd1d1df15",
      "b877b4212f3644f4bdee09279e093a74",
      "f3ff15907b39426794408d0391a36181",
      "32355b3782514798950f827329398492",
      "bb2887c68abc4e069248cc8d23f8518e",
      "f396cbe020ea4007af05069fa3a2539e",
      "85201fa8bb524ac89f4c3cc56b4ac527",
      "f7263795e618489395f8a40b6d614110",
      "3e5dfe68a900419fa798bb3f61947f51",
      "c68f663979074d5db0a65f2ba2a12e84",
      "269f807082ca4bbaa1f5284adc020e42",
      "63bf0749a69a4540bd38bd463621ce78",
      "31d6d5daa8884af4b7b1c41e79968e0e",
      "27489400ce6e45b697e8037d5bdee4d0",
      "a1bb0304c441483ba2e76eb031ac8566",
      "3bb74c46c04b4865a8dfae5fa8b71417",
      "41c671be324f47cebd447446ee4fe3b3",
      "52f9e3780ddf464284c379fe5165db69",
      "9c2240eb01514a288d2ee989932d8b6d",
      "a5ca023985c4481d9b6bd2971a055e18",
      "8bb0942d38be4f219e98e771d8080e57",
      "3b458f7380cd4fc9aa6c99e8d89a57af",
      "7027892b2040461085cd956681730900",
      "e310b06a0e384746ab04515ba0d008fd",
      "c1598ad91c7d48fba159588ec3b5b730",
      "098023bd62b948789d55e0f98fa86b2f",
      "c8f111bf603743c4bb1d8ccb2ac9a319",
      "38acafca52a443c89477e25fa810cdd0",
      "03cba694c2be41b8b7b7d85d957f5822",
      "a807bd1f76954bbf95831cf675667a8b",
      "4e2d8d5f1f924f6d89ccfdc7d6380f6d",
      "4f3054520b5344a7983a384a63ae3846",
      "5b328734da5f4eff9f8fc3c5d108da18",
      "b32a76de65de40a7bef6175aaad1b54e",
      "16a5c95c1e824660a795b55f34e092ab",
      "b940d7f2594c4a7bb7c158faf0753006",
      "d989f252f62b4f1ea6ea872bb40ebf66"
     ]
    },
    "id": "r-N2g6lnM9X2",
    "outputId": "5ca1ab1b-597c-4901-cce1-ad9ae027314e"
   },
   "outputs": [
    {
     "data": {
      "application/vnd.jupyter.widget-view+json": {
       "model_id": "c2eab3ddde614c8787bfb494ec8a1324",
       "version_major": 2,
       "version_minor": 0
      },
      "text/plain": [
       "Downloading (…)okenizer_config.json:   0%|          | 0.00/29.0 [00:00<?, ?B/s]"
      ]
     },
     "metadata": {},
     "output_type": "display_data"
    },
    {
     "data": {
      "application/vnd.jupyter.widget-view+json": {
       "model_id": "f1c58b21e6d2403581583ce027d60404",
       "version_major": 2,
       "version_minor": 0
      },
      "text/plain": [
       "Downloading (…)lve/main/config.json:   0%|          | 0.00/625 [00:00<?, ?B/s]"
      ]
     },
     "metadata": {},
     "output_type": "display_data"
    },
    {
     "data": {
      "application/vnd.jupyter.widget-view+json": {
       "model_id": "bb2887c68abc4e069248cc8d23f8518e",
       "version_major": 2,
       "version_minor": 0
      },
      "text/plain": [
       "Downloading (…)solve/main/vocab.txt:   0%|          | 0.00/996k [00:00<?, ?B/s]"
      ]
     },
     "metadata": {},
     "output_type": "display_data"
    },
    {
     "data": {
      "application/vnd.jupyter.widget-view+json": {
       "model_id": "3bb74c46c04b4865a8dfae5fa8b71417",
       "version_major": 2,
       "version_minor": 0
      },
      "text/plain": [
       "Downloading (…)/main/tokenizer.json:   0%|          | 0.00/1.96M [00:00<?, ?B/s]"
      ]
     },
     "metadata": {},
     "output_type": "display_data"
    },
    {
     "data": {
      "application/vnd.jupyter.widget-view+json": {
       "model_id": "c8f111bf603743c4bb1d8ccb2ac9a319",
       "version_major": 2,
       "version_minor": 0
      },
      "text/plain": [
       "Downloading (…)\"pytorch_model.bin\";:   0%|          | 0.00/714M [00:00<?, ?B/s]"
      ]
     },
     "metadata": {},
     "output_type": "display_data"
    },
    {
     "name": "stderr",
     "output_type": "stream",
     "text": [
      "Some weights of the model checkpoint at bert-base-multilingual-cased were not used when initializing BertForSequenceClassification: ['cls.predictions.transform.dense.bias', 'cls.predictions.bias', 'cls.predictions.transform.LayerNorm.bias', 'cls.predictions.transform.dense.weight', 'cls.predictions.transform.LayerNorm.weight', 'cls.predictions.decoder.weight', 'cls.seq_relationship.weight', 'cls.seq_relationship.bias']\n",
      "- This IS expected if you are initializing BertForSequenceClassification from the checkpoint of a model trained on another task or with another architecture (e.g. initializing a BertForSequenceClassification model from a BertForPreTraining model).\n",
      "- This IS NOT expected if you are initializing BertForSequenceClassification from the checkpoint of a model that you expect to be exactly identical (initializing a BertForSequenceClassification model from a BertForSequenceClassification model).\n",
      "Some weights of BertForSequenceClassification were not initialized from the model checkpoint at bert-base-multilingual-cased and are newly initialized: ['classifier.bias', 'classifier.weight']\n",
      "You should probably TRAIN this model on a down-stream task to be able to use it for predictions and inference.\n",
      "Some weights of the model checkpoint at bert-base-multilingual-cased were not used when initializing BertForSequenceClassification: ['cls.predictions.transform.dense.bias', 'cls.predictions.bias', 'cls.predictions.transform.LayerNorm.bias', 'cls.predictions.transform.dense.weight', 'cls.predictions.transform.LayerNorm.weight', 'cls.predictions.decoder.weight', 'cls.seq_relationship.weight', 'cls.seq_relationship.bias']\n",
      "- This IS expected if you are initializing BertForSequenceClassification from the checkpoint of a model trained on another task or with another architecture (e.g. initializing a BertForSequenceClassification model from a BertForPreTraining model).\n",
      "- This IS NOT expected if you are initializing BertForSequenceClassification from the checkpoint of a model that you expect to be exactly identical (initializing a BertForSequenceClassification model from a BertForSequenceClassification model).\n",
      "Some weights of BertForSequenceClassification were not initialized from the model checkpoint at bert-base-multilingual-cased and are newly initialized: ['classifier.bias', 'classifier.weight']\n",
      "You should probably TRAIN this model on a down-stream task to be able to use it for predictions and inference.\n",
      "Some weights of the model checkpoint at bert-base-multilingual-cased were not used when initializing BertForSequenceClassification: ['cls.predictions.transform.dense.bias', 'cls.predictions.bias', 'cls.predictions.transform.LayerNorm.bias', 'cls.predictions.transform.dense.weight', 'cls.predictions.transform.LayerNorm.weight', 'cls.predictions.decoder.weight', 'cls.seq_relationship.weight', 'cls.seq_relationship.bias']\n",
      "- This IS expected if you are initializing BertForSequenceClassification from the checkpoint of a model trained on another task or with another architecture (e.g. initializing a BertForSequenceClassification model from a BertForPreTraining model).\n",
      "- This IS NOT expected if you are initializing BertForSequenceClassification from the checkpoint of a model that you expect to be exactly identical (initializing a BertForSequenceClassification model from a BertForSequenceClassification model).\n",
      "Some weights of BertForSequenceClassification were not initialized from the model checkpoint at bert-base-multilingual-cased and are newly initialized: ['classifier.bias', 'classifier.weight']\n",
      "You should probably TRAIN this model on a down-stream task to be able to use it for predictions and inference.\n"
     ]
    }
   ],
   "source": [
    "from transformers import AutoTokenizer, AutoModelForSequenceClassification\n",
    "MODEL_NAME = 'bert-base-multilingual-cased'\n",
    "N_MODELS = 3\n",
    "tokenizers = []\n",
    "models = []\n",
    "for i in range(N_MODELS):\n",
    "    tokenizers.append(AutoTokenizer.from_pretrained(MODEL_NAME))\n",
    "    models.append(AutoModelForSequenceClassification.from_pretrained(MODEL_NAME,label2id=label2id,id2label=id2label,num_labels =NUM_LABELS))"
   ]
  },
  {
   "cell_type": "markdown",
   "metadata": {
    "id": "By7R-QPNPMPi"
   },
   "source": [
    "## Подготовим трейн- и тест-датасеты"
   ]
  },
  {
   "cell_type": "code",
   "execution_count": 5,
   "metadata": {
    "id": "XdQqHbAFM9VA"
   },
   "outputs": [],
   "source": [
    "tokenizer = AutoTokenizer.from_pretrained('bert-base-multilingual-cased')\n",
    "# if tokenizer.pad_token is None:\n",
    "#     tokenizer.add_special_tokens({'pad_token': '[PAD]'})\n",
    "\n",
    "def make_dataset(df):\n",
    "    labels = [label2id[label] for label in df['intent']]\n",
    "    texts = [tokenizer(text,padding='max_length', max_length = 32, truncation=True) for text in df['text']]\n",
    "    \n",
    "    result = []\n",
    "    for idx,(text,label) in enumerate(zip(texts,labels)):\n",
    "        result.append({\"input_ids\" : text['input_ids'], 'attention_mask' : text['attention_mask'], \"label\" : label})\n",
    "    return result\n",
    "\n",
    "train_dataset = make_dataset(train)\n",
    "test_dataset = make_dataset(test)"
   ]
  },
  {
   "cell_type": "code",
   "execution_count": 6,
   "metadata": {
    "colab": {
     "base_uri": "https://localhost:8080/"
    },
    "id": "OQNXFhMNMoYj",
    "outputId": "2f2d1a74-ba84-4e97-e8fe-fbc7e0f27b5e"
   },
   "outputs": [
    {
     "data": {
      "text/plain": [
       "{'input_ids': [101,\n",
       "  67251,\n",
       "  554,\n",
       "  10227,\n",
       "  26771,\n",
       "  64962,\n",
       "  10521,\n",
       "  102,\n",
       "  0,\n",
       "  0,\n",
       "  0,\n",
       "  0,\n",
       "  0,\n",
       "  0,\n",
       "  0,\n",
       "  0,\n",
       "  0,\n",
       "  0,\n",
       "  0,\n",
       "  0,\n",
       "  0,\n",
       "  0,\n",
       "  0,\n",
       "  0,\n",
       "  0,\n",
       "  0,\n",
       "  0,\n",
       "  0,\n",
       "  0,\n",
       "  0,\n",
       "  0,\n",
       "  0],\n",
       " 'attention_mask': [1,\n",
       "  1,\n",
       "  1,\n",
       "  1,\n",
       "  1,\n",
       "  1,\n",
       "  1,\n",
       "  1,\n",
       "  0,\n",
       "  0,\n",
       "  0,\n",
       "  0,\n",
       "  0,\n",
       "  0,\n",
       "  0,\n",
       "  0,\n",
       "  0,\n",
       "  0,\n",
       "  0,\n",
       "  0,\n",
       "  0,\n",
       "  0,\n",
       "  0,\n",
       "  0,\n",
       "  0,\n",
       "  0,\n",
       "  0,\n",
       "  0,\n",
       "  0,\n",
       "  0,\n",
       "  0,\n",
       "  0],\n",
       " 'label': 29}"
      ]
     },
     "execution_count": 6,
     "metadata": {},
     "output_type": "execute_result"
    }
   ],
   "source": [
    "train_dataset[0]"
   ]
  },
  {
   "cell_type": "markdown",
   "metadata": {
    "id": "eMQ9DRLjPtud"
   },
   "source": [
    "## Обучим модель"
   ]
  },
  {
   "cell_type": "code",
   "execution_count": 7,
   "metadata": {
    "id": "w8yZfUhuPTmJ"
   },
   "outputs": [],
   "source": [
    "from sklearn.metrics import accuracy_score\n",
    "\n",
    "def compute_metrics(eval_pred):\n",
    "    predictions, labels = eval_pred\n",
    "    predictions = np.argmax(predictions, axis=1)\n",
    "    return {'accuracy' : accuracy_score(predictions, labels)}"
   ]
  },
  {
   "cell_type": "code",
   "execution_count": 8,
   "metadata": {
    "id": "YZTMJbOBRk_Q"
   },
   "outputs": [],
   "source": [
    "import os\n",
    "os.environ[\"WANDB_DISABLED\"] = \"true\""
   ]
  },
  {
   "cell_type": "code",
   "execution_count": 9,
   "metadata": {
    "colab": {
     "base_uri": "https://localhost:8080/",
     "height": 1000
    },
    "id": "JO_k_Vc8PTc4",
    "outputId": "e1749f4e-7fd3-4879-f4e8-9374098912a6"
   },
   "outputs": [
    {
     "name": "stderr",
     "output_type": "stream",
     "text": [
      "Using the `WANDB_DISABLED` environment variable is deprecated and will be removed in v5. Use the --report_to flag to control the integrations used for logging result (for instance --report_to none).\n",
      "/usr/local/lib/python3.8/dist-packages/transformers/optimization.py:306: FutureWarning: This implementation of AdamW is deprecated and will be removed in a future version. Use the PyTorch implementation torch.optim.AdamW instead, or set `no_deprecation_warning=True` to disable this warning\n",
      "  warnings.warn(\n",
      "***** Running training *****\n",
      "  Num examples = 13230\n",
      "  Num Epochs = 5\n",
      "  Instantaneous batch size per device = 32\n",
      "  Total train batch size (w. parallel, distributed & accumulation) = 32\n",
      "  Gradient Accumulation steps = 1\n",
      "  Total optimization steps = 2070\n",
      "  Number of trainable parameters = 177962638\n",
      "You're using a BertTokenizerFast tokenizer. Please note that with a fast tokenizer, using the `__call__` method is faster than using a method to encode the text followed by a call to the `pad` method to get a padded encoding.\n"
     ]
    },
    {
     "data": {
      "text/html": [
       "\n",
       "    <div>\n",
       "      \n",
       "      <progress value='2070' max='2070' style='width:300px; height:20px; vertical-align: middle;'></progress>\n",
       "      [2070/2070 08:28, Epoch 5/5]\n",
       "    </div>\n",
       "    <table border=\"1\" class=\"dataframe\">\n",
       "  <thead>\n",
       " <tr style=\"text-align: left;\">\n",
       "      <th>Step</th>\n",
       "      <th>Training Loss</th>\n",
       "      <th>Validation Loss</th>\n",
       "      <th>Accuracy</th>\n",
       "    </tr>\n",
       "  </thead>\n",
       "  <tbody>\n",
       "    <tr>\n",
       "      <td>500</td>\n",
       "      <td>2.954400</td>\n",
       "      <td>1.437221</td>\n",
       "      <td>0.841450</td>\n",
       "    </tr>\n",
       "    <tr>\n",
       "      <td>1000</td>\n",
       "      <td>1.032500</td>\n",
       "      <td>0.557379</td>\n",
       "      <td>0.936580</td>\n",
       "    </tr>\n",
       "    <tr>\n",
       "      <td>1500</td>\n",
       "      <td>0.486100</td>\n",
       "      <td>0.322277</td>\n",
       "      <td>0.951302</td>\n",
       "    </tr>\n",
       "    <tr>\n",
       "      <td>2000</td>\n",
       "      <td>0.337400</td>\n",
       "      <td>0.262931</td>\n",
       "      <td>0.951302</td>\n",
       "    </tr>\n",
       "  </tbody>\n",
       "</table><p>"
      ],
      "text/plain": [
       "<IPython.core.display.HTML object>"
      ]
     },
     "metadata": {},
     "output_type": "display_data"
    },
    {
     "name": "stderr",
     "output_type": "stream",
     "text": [
      "***** Running Evaluation *****\n",
      "  Num examples = 883\n",
      "  Batch size = 32\n",
      "Saving model checkpoint to test-glue/checkpoint-500\n",
      "Configuration saved in test-glue/checkpoint-500/config.json\n",
      "Model weights saved in test-glue/checkpoint-500/pytorch_model.bin\n",
      "tokenizer config file saved in test-glue/checkpoint-500/tokenizer_config.json\n",
      "Special tokens file saved in test-glue/checkpoint-500/special_tokens_map.json\n",
      "***** Running Evaluation *****\n",
      "  Num examples = 883\n",
      "  Batch size = 32\n",
      "Saving model checkpoint to test-glue/checkpoint-1000\n",
      "Configuration saved in test-glue/checkpoint-1000/config.json\n",
      "Model weights saved in test-glue/checkpoint-1000/pytorch_model.bin\n",
      "tokenizer config file saved in test-glue/checkpoint-1000/tokenizer_config.json\n",
      "Special tokens file saved in test-glue/checkpoint-1000/special_tokens_map.json\n",
      "***** Running Evaluation *****\n",
      "  Num examples = 883\n",
      "  Batch size = 32\n",
      "Saving model checkpoint to test-glue/checkpoint-1500\n",
      "Configuration saved in test-glue/checkpoint-1500/config.json\n",
      "Model weights saved in test-glue/checkpoint-1500/pytorch_model.bin\n",
      "tokenizer config file saved in test-glue/checkpoint-1500/tokenizer_config.json\n",
      "Special tokens file saved in test-glue/checkpoint-1500/special_tokens_map.json\n",
      "***** Running Evaluation *****\n",
      "  Num examples = 883\n",
      "  Batch size = 32\n",
      "Saving model checkpoint to test-glue/checkpoint-2000\n",
      "Configuration saved in test-glue/checkpoint-2000/config.json\n",
      "Model weights saved in test-glue/checkpoint-2000/pytorch_model.bin\n",
      "tokenizer config file saved in test-glue/checkpoint-2000/tokenizer_config.json\n",
      "Special tokens file saved in test-glue/checkpoint-2000/special_tokens_map.json\n",
      "\n",
      "\n",
      "Training completed. Do not forget to share your model on huggingface.co/models =)\n",
      "\n",
      "\n",
      "using `logging_steps` to initialize `eval_steps` to 500\n",
      "PyTorch: setting up devices\n",
      "The default value for the training argument `--report_to` will change in v5 (from all installed integrations to none). In v5, you will need to use `--report_to all` to get the same behavior as now. You should start updating your code and make this info disappear :-).\n",
      "Using the `WANDB_DISABLED` environment variable is deprecated and will be removed in v5. Use the --report_to flag to control the integrations used for logging result (for instance --report_to none).\n",
      "/usr/local/lib/python3.8/dist-packages/transformers/optimization.py:306: FutureWarning: This implementation of AdamW is deprecated and will be removed in a future version. Use the PyTorch implementation torch.optim.AdamW instead, or set `no_deprecation_warning=True` to disable this warning\n",
      "  warnings.warn(\n",
      "***** Running training *****\n",
      "  Num examples = 13230\n",
      "  Num Epochs = 5\n",
      "  Instantaneous batch size per device = 32\n",
      "  Total train batch size (w. parallel, distributed & accumulation) = 32\n",
      "  Gradient Accumulation steps = 1\n",
      "  Total optimization steps = 2070\n",
      "  Number of trainable parameters = 177962638\n"
     ]
    },
    {
     "data": {
      "text/html": [
       "\n",
       "    <div>\n",
       "      \n",
       "      <progress value='2070' max='2070' style='width:300px; height:20px; vertical-align: middle;'></progress>\n",
       "      [2070/2070 08:28, Epoch 5/5]\n",
       "    </div>\n",
       "    <table border=\"1\" class=\"dataframe\">\n",
       "  <thead>\n",
       " <tr style=\"text-align: left;\">\n",
       "      <th>Step</th>\n",
       "      <th>Training Loss</th>\n",
       "      <th>Validation Loss</th>\n",
       "      <th>Accuracy</th>\n",
       "    </tr>\n",
       "  </thead>\n",
       "  <tbody>\n",
       "    <tr>\n",
       "      <td>500</td>\n",
       "      <td>2.991900</td>\n",
       "      <td>1.511102</td>\n",
       "      <td>0.800680</td>\n",
       "    </tr>\n",
       "    <tr>\n",
       "      <td>1000</td>\n",
       "      <td>1.090200</td>\n",
       "      <td>0.598186</td>\n",
       "      <td>0.936580</td>\n",
       "    </tr>\n",
       "    <tr>\n",
       "      <td>1500</td>\n",
       "      <td>0.514000</td>\n",
       "      <td>0.341771</td>\n",
       "      <td>0.954700</td>\n",
       "    </tr>\n",
       "    <tr>\n",
       "      <td>2000</td>\n",
       "      <td>0.353400</td>\n",
       "      <td>0.277404</td>\n",
       "      <td>0.953567</td>\n",
       "    </tr>\n",
       "  </tbody>\n",
       "</table><p>"
      ],
      "text/plain": [
       "<IPython.core.display.HTML object>"
      ]
     },
     "metadata": {},
     "output_type": "display_data"
    },
    {
     "name": "stderr",
     "output_type": "stream",
     "text": [
      "***** Running Evaluation *****\n",
      "  Num examples = 883\n",
      "  Batch size = 32\n",
      "Saving model checkpoint to test-glue/checkpoint-500\n",
      "Configuration saved in test-glue/checkpoint-500/config.json\n",
      "Model weights saved in test-glue/checkpoint-500/pytorch_model.bin\n",
      "tokenizer config file saved in test-glue/checkpoint-500/tokenizer_config.json\n",
      "Special tokens file saved in test-glue/checkpoint-500/special_tokens_map.json\n",
      "***** Running Evaluation *****\n",
      "  Num examples = 883\n",
      "  Batch size = 32\n",
      "Saving model checkpoint to test-glue/checkpoint-1000\n",
      "Configuration saved in test-glue/checkpoint-1000/config.json\n",
      "Model weights saved in test-glue/checkpoint-1000/pytorch_model.bin\n",
      "tokenizer config file saved in test-glue/checkpoint-1000/tokenizer_config.json\n",
      "Special tokens file saved in test-glue/checkpoint-1000/special_tokens_map.json\n",
      "***** Running Evaluation *****\n",
      "  Num examples = 883\n",
      "  Batch size = 32\n",
      "Saving model checkpoint to test-glue/checkpoint-1500\n",
      "Configuration saved in test-glue/checkpoint-1500/config.json\n",
      "Model weights saved in test-glue/checkpoint-1500/pytorch_model.bin\n",
      "tokenizer config file saved in test-glue/checkpoint-1500/tokenizer_config.json\n",
      "Special tokens file saved in test-glue/checkpoint-1500/special_tokens_map.json\n",
      "***** Running Evaluation *****\n",
      "  Num examples = 883\n",
      "  Batch size = 32\n",
      "Saving model checkpoint to test-glue/checkpoint-2000\n",
      "Configuration saved in test-glue/checkpoint-2000/config.json\n",
      "Model weights saved in test-glue/checkpoint-2000/pytorch_model.bin\n",
      "tokenizer config file saved in test-glue/checkpoint-2000/tokenizer_config.json\n",
      "Special tokens file saved in test-glue/checkpoint-2000/special_tokens_map.json\n",
      "\n",
      "\n",
      "Training completed. Do not forget to share your model on huggingface.co/models =)\n",
      "\n",
      "\n",
      "using `logging_steps` to initialize `eval_steps` to 500\n",
      "PyTorch: setting up devices\n",
      "The default value for the training argument `--report_to` will change in v5 (from all installed integrations to none). In v5, you will need to use `--report_to all` to get the same behavior as now. You should start updating your code and make this info disappear :-).\n",
      "Using the `WANDB_DISABLED` environment variable is deprecated and will be removed in v5. Use the --report_to flag to control the integrations used for logging result (for instance --report_to none).\n",
      "/usr/local/lib/python3.8/dist-packages/transformers/optimization.py:306: FutureWarning: This implementation of AdamW is deprecated and will be removed in a future version. Use the PyTorch implementation torch.optim.AdamW instead, or set `no_deprecation_warning=True` to disable this warning\n",
      "  warnings.warn(\n",
      "***** Running training *****\n",
      "  Num examples = 13230\n",
      "  Num Epochs = 5\n",
      "  Instantaneous batch size per device = 32\n",
      "  Total train batch size (w. parallel, distributed & accumulation) = 32\n",
      "  Gradient Accumulation steps = 1\n",
      "  Total optimization steps = 2070\n",
      "  Number of trainable parameters = 177962638\n"
     ]
    },
    {
     "data": {
      "text/html": [
       "\n",
       "    <div>\n",
       "      \n",
       "      <progress value='2070' max='2070' style='width:300px; height:20px; vertical-align: middle;'></progress>\n",
       "      [2070/2070 08:31, Epoch 5/5]\n",
       "    </div>\n",
       "    <table border=\"1\" class=\"dataframe\">\n",
       "  <thead>\n",
       " <tr style=\"text-align: left;\">\n",
       "      <th>Step</th>\n",
       "      <th>Training Loss</th>\n",
       "      <th>Validation Loss</th>\n",
       "      <th>Accuracy</th>\n",
       "    </tr>\n",
       "  </thead>\n",
       "  <tbody>\n",
       "    <tr>\n",
       "      <td>500</td>\n",
       "      <td>2.950900</td>\n",
       "      <td>1.461200</td>\n",
       "      <td>0.795017</td>\n",
       "    </tr>\n",
       "    <tr>\n",
       "      <td>1000</td>\n",
       "      <td>1.043900</td>\n",
       "      <td>0.576837</td>\n",
       "      <td>0.930917</td>\n",
       "    </tr>\n",
       "    <tr>\n",
       "      <td>1500</td>\n",
       "      <td>0.496000</td>\n",
       "      <td>0.336039</td>\n",
       "      <td>0.949037</td>\n",
       "    </tr>\n",
       "    <tr>\n",
       "      <td>2000</td>\n",
       "      <td>0.342100</td>\n",
       "      <td>0.276656</td>\n",
       "      <td>0.950170</td>\n",
       "    </tr>\n",
       "  </tbody>\n",
       "</table><p>"
      ],
      "text/plain": [
       "<IPython.core.display.HTML object>"
      ]
     },
     "metadata": {},
     "output_type": "display_data"
    },
    {
     "name": "stderr",
     "output_type": "stream",
     "text": [
      "***** Running Evaluation *****\n",
      "  Num examples = 883\n",
      "  Batch size = 32\n",
      "Saving model checkpoint to test-glue/checkpoint-500\n",
      "Configuration saved in test-glue/checkpoint-500/config.json\n",
      "Model weights saved in test-glue/checkpoint-500/pytorch_model.bin\n",
      "tokenizer config file saved in test-glue/checkpoint-500/tokenizer_config.json\n",
      "Special tokens file saved in test-glue/checkpoint-500/special_tokens_map.json\n",
      "***** Running Evaluation *****\n",
      "  Num examples = 883\n",
      "  Batch size = 32\n",
      "Saving model checkpoint to test-glue/checkpoint-1000\n",
      "Configuration saved in test-glue/checkpoint-1000/config.json\n",
      "Model weights saved in test-glue/checkpoint-1000/pytorch_model.bin\n",
      "tokenizer config file saved in test-glue/checkpoint-1000/tokenizer_config.json\n",
      "Special tokens file saved in test-glue/checkpoint-1000/special_tokens_map.json\n",
      "***** Running Evaluation *****\n",
      "  Num examples = 883\n",
      "  Batch size = 32\n",
      "Saving model checkpoint to test-glue/checkpoint-1500\n",
      "Configuration saved in test-glue/checkpoint-1500/config.json\n",
      "Model weights saved in test-glue/checkpoint-1500/pytorch_model.bin\n",
      "tokenizer config file saved in test-glue/checkpoint-1500/tokenizer_config.json\n",
      "Special tokens file saved in test-glue/checkpoint-1500/special_tokens_map.json\n",
      "***** Running Evaluation *****\n",
      "  Num examples = 883\n",
      "  Batch size = 32\n",
      "Saving model checkpoint to test-glue/checkpoint-2000\n",
      "Configuration saved in test-glue/checkpoint-2000/config.json\n",
      "Model weights saved in test-glue/checkpoint-2000/pytorch_model.bin\n",
      "tokenizer config file saved in test-glue/checkpoint-2000/tokenizer_config.json\n",
      "Special tokens file saved in test-glue/checkpoint-2000/special_tokens_map.json\n",
      "\n",
      "\n",
      "Training completed. Do not forget to share your model on huggingface.co/models =)\n",
      "\n",
      "\n"
     ]
    }
   ],
   "source": [
    "for model in models:\n",
    "    args = TrainingArguments(\n",
    "    \"test-glue\",\n",
    "    evaluation_strategy = \"steps\",\n",
    "    learning_rate=2e-5,\n",
    "    per_device_train_batch_size=32,\n",
    "    per_device_eval_batch_size=32,\n",
    "    num_train_epochs=5,\n",
    "    weight_decay=0.05,\n",
    "    load_best_model_at_end=False,\n",
    "    report_to=None,\n",
    "    metric_for_best_model = 'accuracy'\n",
    "    )\n",
    "    trainer = Trainer(\n",
    "    model,\n",
    "    args,\n",
    "    train_dataset=train_dataset,\n",
    "    eval_dataset=test_dataset,\n",
    "    tokenizer=tokenizer,\n",
    "    compute_metrics=compute_metrics\n",
    "    )\n",
    "    trainer.train()"
   ]
  },
  {
   "cell_type": "markdown",
   "metadata": {
    "id": "96L8ORGGR9L8"
   },
   "source": [
    "## Проведем непосредственно классификацию и ансамблирование"
   ]
  },
  {
   "cell_type": "code",
   "execution_count": 10,
   "metadata": {
    "id": "2Y6glTnsQR-0"
   },
   "outputs": [],
   "source": [
    "class ClassifierLanguageModel():\n",
    "\tdef __init__(self, model,tokenizer):\n",
    "\t\tself.model = model\n",
    "\t\tself.tokenizer = tokenizer\n",
    "\n",
    "\tdef run(self, text):\n",
    "\t\tmodel_input = self.tokenizer.encode(text, return_tensors='pt').cuda()\n",
    "\t\tmodel_output = self.model.bert.config.id2label[self.model(model_input)['logits'].argmax().item()]\n",
    "\t\treturn model_output\n",
    "\n",
    "class Ensemble():\n",
    "    def __init__(self,predictors):\n",
    "        self.predictors = predictors\n",
    "            \n",
    "    def run(self,string):\n",
    "        predictions = []\n",
    "        for predictor in self.predictors:\n",
    "            predictions.append(predictor.run(string))\n",
    "        counter = {}\n",
    "        for p_i in predictions:\n",
    "            if p_i not in counter.keys():\n",
    "                counter[p_i] = 0\n",
    "            counter[p_i] += 1\n",
    "        \n",
    "        # check what is the majority have voted for\n",
    "        for key in counter.keys():\n",
    "            if counter[key] > 0.5*len(predictions):\n",
    "                return key\n",
    "            \n",
    "        return 'out_of_class'"
   ]
  },
  {
   "cell_type": "code",
   "execution_count": 11,
   "metadata": {
    "id": "vdWkicvmQR5S"
   },
   "outputs": [],
   "source": [
    "predictors = []\n",
    "for model, tokenizer in zip(models,tokenizers):\n",
    "    predictors.append(ClassifierLanguageModel(model,tokenizer))\n",
    "ensemble = Ensemble(predictors)"
   ]
  },
  {
   "cell_type": "markdown",
   "metadata": {
    "id": "wkm-RG95SKA3"
   },
   "source": [
    "## Определим качество классификации с использованием f1-метрики"
   ]
  },
  {
   "cell_type": "code",
   "execution_count": 12,
   "metadata": {
    "id": "6Czs7JkcSEi0"
   },
   "outputs": [],
   "source": [
    "reference = []\n",
    "predictions = []\n",
    "for text,label in zip(test['text'],test['intent']):\n",
    "    output = ensemble.run(text)\n",
    "    predictions.append(output)\n",
    "    reference.append(label)"
   ]
  },
  {
   "cell_type": "code",
   "execution_count": 13,
   "metadata": {
    "colab": {
     "base_uri": "https://localhost:8080/"
    },
    "id": "JoMbkA_YSEfz",
    "outputId": "3a5fb257-433c-47d7-92c8-3bf8936d2d84"
   },
   "outputs": [
    {
     "data": {
      "text/plain": [
       "['statement_general',\n",
       " 'statement_general',\n",
       " 'conform',\n",
       " 'conform',\n",
       " 'conform',\n",
       " 'conform',\n",
       " 'conform',\n",
       " 'conform',\n",
       " 'conform',\n",
       " 'conform']"
      ]
     },
     "execution_count": 13,
     "metadata": {},
     "output_type": "execute_result"
    }
   ],
   "source": [
    "reference[:10]"
   ]
  },
  {
   "cell_type": "code",
   "execution_count": 14,
   "metadata": {
    "colab": {
     "base_uri": "https://localhost:8080/"
    },
    "id": "o5eoug0jSEb5",
    "outputId": "3a5ca9bd-b212-4996-b37b-11261b48879a"
   },
   "outputs": [
    {
     "data": {
      "text/plain": [
       "['statement_general',\n",
       " 'statement_general',\n",
       " 'conform',\n",
       " 'conform',\n",
       " 'conform',\n",
       " 'conform',\n",
       " 'conform',\n",
       " 'conform',\n",
       " 'conform',\n",
       " 'conform']"
      ]
     },
     "execution_count": 14,
     "metadata": {},
     "output_type": "execute_result"
    }
   ],
   "source": [
    "predictions[:10]"
   ]
  },
  {
   "cell_type": "code",
   "execution_count": 15,
   "metadata": {
    "colab": {
     "base_uri": "https://localhost:8080/"
    },
    "id": "gC406OC6SXmg",
    "outputId": "e63d0031-e2c4-44f4-de24-cd0e158df32f"
   },
   "outputs": [
    {
     "name": "stdout",
     "output_type": "stream",
     "text": [
      "macro F1 = 0.9274263673207336\n",
      "micro F1 = 0.9501698754246886\n",
      "weighted F1 = 0.9505289691643032\n"
     ]
    }
   ],
   "source": [
    "from sklearn.metrics import f1_score\n",
    "\n",
    "for average_type in ['macro','micro','weighted']:\n",
    "    print(f'{average_type} F1 = {f1_score(reference, predictions, average=average_type)}')"
   ]
  },
  {
   "cell_type": "markdown",
   "metadata": {
    "id": "7soesierSgmM"
   },
   "source": [
    "## Удостоверимся, что классификатор способен \"отсеивать\" out-of-classes запросы пользователей (т.е. не подходящие ни под одну из меток классификатора)"
   ]
  },
  {
   "cell_type": "code",
   "execution_count": 16,
   "metadata": {
    "colab": {
     "base_uri": "https://localhost:8080/"
    },
    "id": "bp7wbBd4SXj5",
    "outputId": "803ef376-659a-4ce5-e14d-6a829292f30a"
   },
   "outputs": [
    {
     "name": "stdout",
     "output_type": "stream",
     "text": [
      "loc_walk loc_walk\n",
      "loc_cafeteria_new_building_3_etage loc_cafeteria_new_building_3_etage\n",
      "loc_eat out_of_classes\n"
     ]
    }
   ],
   "source": [
    "test = [['где можно погулять в Академгородке?','loc_walk']\\\n",
    "        ,['где недорого поесть на 3 этаже нового корпуса?','loc_cafeteria_new_building_3_etage'],\\\n",
    "        ['как поменять колесо с помощью домкрата?','out_of_classes']] # offtopic question\n",
    "\n",
    "for phrase in test:\n",
    "    label = ensemble.run(phrase[0])\n",
    "    print(label,phrase[1])"
   ]
  },
  {
   "cell_type": "markdown",
   "metadata": {
    "id": "D7iCDr__klVx"
   },
   "source": [
    "## Мы видим, что качество предсказаний с использованием предобученной BERT-like модели 'bert-base-multilingual-cased' находится на высоком уровне (f1-метрика = 95%), а также классификатор способен отсеивать out-of-classes запросы пользователей."
   ]
  },
  {
   "cell_type": "markdown",
   "metadata": {
    "id": "1uq4rN0LJnGW"
   },
   "source": [
    "## 2. Для классификации методом KNN используем меру TF-IDF"
   ]
  },
  {
   "cell_type": "code",
   "execution_count": 17,
   "metadata": {
    "id": "Yb_lMaHhW5Dg"
   },
   "outputs": [],
   "source": [
    "import re\n",
    "import numpy\n",
    "from nltk.stem import WordNetLemmatizer\n",
    "from nltk.stem import SnowballStemmer\n",
    "from nltk.tokenize import word_tokenize\n",
    "from nltk import pos_tag\n",
    "from nltk.corpus import wordnet\n",
    "from sklearn.feature_extraction.text import CountVectorizer, TfidfVectorizer\n",
    "from bs4 import BeautifulSoup"
   ]
  },
  {
   "cell_type": "code",
   "execution_count": 18,
   "metadata": {
    "colab": {
     "base_uri": "https://localhost:8080/"
    },
    "id": "Iy9kP7-eZK38",
    "outputId": "1e321d8d-37f5-49fe-f244-f087619b8dd8"
   },
   "outputs": [
    {
     "name": "stderr",
     "output_type": "stream",
     "text": [
      "[nltk_data] Downloading package stopwords to /root/nltk_data...\n",
      "[nltk_data]   Unzipping corpora/stopwords.zip.\n",
      "[nltk_data] Downloading package punkt to /root/nltk_data...\n",
      "[nltk_data]   Unzipping tokenizers/punkt.zip.\n",
      "[nltk_data] Downloading package averaged_perceptron_tagger to\n",
      "[nltk_data]     /root/nltk_data...\n",
      "[nltk_data]   Unzipping taggers/averaged_perceptron_tagger.zip.\n",
      "[nltk_data] Downloading package wordnet to /root/nltk_data...\n",
      "[nltk_data] Downloading package omw-1.4 to /root/nltk_data...\n"
     ]
    },
    {
     "data": {
      "text/plain": [
       "True"
      ]
     },
     "execution_count": 18,
     "metadata": {},
     "output_type": "execute_result"
    }
   ],
   "source": [
    "import nltk\n",
    "nltk.download('stopwords')\n",
    "nltk.download('punkt')\n",
    "nltk.download('averaged_perceptron_tagger')\n",
    "nltk.download('wordnet')\n",
    "nltk.download('omw-1.4')"
   ]
  },
  {
   "cell_type": "code",
   "execution_count": 19,
   "metadata": {
    "id": "2S4SN3hsW4av"
   },
   "outputs": [],
   "source": [
    "from sklearn import metrics, neighbors\n",
    "from sklearn.model_selection import train_test_split, cross_val_score, cross_val_predict"
   ]
  },
  {
   "cell_type": "markdown",
   "metadata": {
    "id": "1uPDy5zzhoQZ"
   },
   "source": [
    "## Определим функцию предобработки текста (удаление чисел, знаков пунктуации, заглавных букв, а также лемматизация и стемминг)"
   ]
  },
  {
   "cell_type": "code",
   "execution_count": 20,
   "metadata": {
    "id": "lHecdIKZY3KE"
   },
   "outputs": [],
   "source": [
    "def cleanText(text, lemmatize, stemmer):\n",
    "    \"\"\"Method for cleaning text from train and test data. Removes numbers, punctuation, and capitalization. Stems or lemmatizes text.\"\"\"\n",
    "\n",
    "    if isinstance(text, float):\n",
    "        text = str(text)\n",
    "    if isinstance(text, numpy.int64):\n",
    "        text = str(text)\n",
    "    try:\n",
    "        text = text.decode()\n",
    "    except AttributeError:\n",
    "        pass\n",
    "\n",
    "    soup = BeautifulSoup(text, \"lxml\")\n",
    "    text = soup.get_text()\n",
    "    text = re.sub(r\"[^А-яа-я]\", \" \", text)\n",
    "    text = text.lower()\n",
    "\n",
    "    if lemmatize:\n",
    "        wordnet_lemmatizer = WordNetLemmatizer()\n",
    "\n",
    "        def get_tag(tag):\n",
    "            if tag.startswith('J'):\n",
    "                return wordnet.ADJ\n",
    "            elif tag.startswith('V'):\n",
    "                return wordnet.VERB\n",
    "            elif tag.startswith('N'):\n",
    "                return wordnet.NOUN\n",
    "            elif tag.startswith('R'):\n",
    "                return wordnet.ADV\n",
    "            else:\n",
    "                return ''\n",
    "\n",
    "        text_result = []\n",
    "        tokens = word_tokenize(text)  # Generate list of tokens\n",
    "        tagged = pos_tag(tokens)\n",
    "        for t in tagged:\n",
    "            try:\n",
    "                text_result.append(wordnet_lemmatizer.lemmatize(t[0], get_tag(t[1][:2])))\n",
    "            except:\n",
    "                text_result.append(wordnet_lemmatizer.lemmatize(t[0]))\n",
    "        return text_result\n",
    "\n",
    "    if stemmer:\n",
    "        text_result = []\n",
    "        tokens = word_tokenize(text)\n",
    "        snowball_stemmer = SnowballStemmer('russian')\n",
    "        for t in tokens:\n",
    "            text_result.append(snowball_stemmer.stem(t))\n",
    "        return text_result"
   ]
  },
  {
   "cell_type": "markdown",
   "metadata": {
    "id": "MLQDIAtIhuVc"
   },
   "source": [
    "## Определим функцию для определения меры TF-IDF для корпуса текста"
   ]
  },
  {
   "cell_type": "code",
   "execution_count": 21,
   "metadata": {
    "id": "80L6waj0YWyH"
   },
   "outputs": [],
   "source": [
    "from nltk.stem.snowball import stopwords\n",
    "def createTFIDF(train, test, remove_stopwords, lemmatize, stemmer):\n",
    "    if remove_stopwords:\n",
    "        vectorizer = TfidfVectorizer(analyzer='word', input='content', stop_words=stopwords.words('russian'))\n",
    "    else:\n",
    "        vectorizer =  TfidfVectorizer(analyzer='word', input='content')\n",
    "\n",
    "    clean_train = []\n",
    "    for paragraph in train:\n",
    "        paragraph_result = cleanText(paragraph, lemmatize, stemmer)\n",
    "        paragraph = \" \".join(str(x) for x in paragraph_result)\n",
    "        clean_train.append(paragraph)\n",
    "\n",
    "    clean_test = []\n",
    "    for paragraph in test:\n",
    "        paragraph_result = cleanText(paragraph, lemmatize, stemmer)\n",
    "        paragraph = \" \".join(str(x) for x in paragraph_result)\n",
    "        clean_test.append(paragraph)\n",
    "\n",
    "    tfidf_train = vectorizer.fit_transform(clean_train).toarray()\n",
    "    tfidf_test = vectorizer.transform(clean_test).toarray()\n",
    "    return tfidf_train, tfidf_test"
   ]
  },
  {
   "cell_type": "markdown",
   "metadata": {
    "id": "S7Z06vutg5zI"
   },
   "source": [
    "## Загрузим текст (text) с метками (intent)"
   ]
  },
  {
   "cell_type": "code",
   "execution_count": 22,
   "metadata": {
    "id": "F0O1qRgvXygs"
   },
   "outputs": [],
   "source": [
    "train=pd.read_csv('/content/dataset_train.tsv',delimiter='\\t',encoding=\"utf-8\",names=['text', 'intent'])\n",
    "test =pd.read_csv('/content/dataset_test.tsv',delimiter='\\t',encoding=\"utf-8\",names=['text', 'intent'])\n",
    "all_data = result = pd.concat([train,test])"
   ]
  },
  {
   "cell_type": "markdown",
   "metadata": {
    "id": "rS1iIALjcuqP"
   },
   "source": [
    "## Разобьем выборку на трейн- и тест-:\n",
    "- X - собственно классифицируемый текст: all_data['text'],\n",
    "\n",
    "- y - целевая переменная (признак класса): all_data['intent']"
   ]
  },
  {
   "cell_type": "code",
   "execution_count": 23,
   "metadata": {
    "id": "KBRlQqhLYPwn"
   },
   "outputs": [],
   "source": [
    "X_train, X_test, y_train, y_test = train_test_split(all_data['text'], all_data['intent'],\n",
    "                                                        test_size=0.2, random_state=5)"
   ]
  },
  {
   "cell_type": "code",
   "execution_count": 24,
   "metadata": {
    "colab": {
     "base_uri": "https://localhost:8080/"
    },
    "id": "OIsMTZszaOfO",
    "outputId": "5886a48b-1572-44f9-a87f-8b2cf8220b67"
   },
   "outputs": [
    {
     "data": {
      "text/plain": [
       "3431     как можно получить бесплатно печать атрибутки ...\n",
       "10310                                          попасть атм\n",
       "10817            находится кафе корпус главный этаж второй\n",
       "9042     разрешение на вход для гостей мероприятия полу...\n",
       "12222                            где сейчас Тимофеева О.А.\n",
       "                               ...                        \n",
       "3046                               стол военный обнаружить\n",
       "9917                                   когда экз находится\n",
       "4079               распологается где хор академический нгу\n",
       "2254                          ехать институт электрометрии\n",
       "2915                      как пройти новый корпус подскажи\n",
       "Name: text, Length: 11290, dtype: object"
      ]
     },
     "execution_count": 24,
     "metadata": {},
     "output_type": "execute_result"
    }
   ],
   "source": [
    "X_train"
   ]
  },
  {
   "cell_type": "markdown",
   "metadata": {
    "id": "dm3lOGgLgty8"
   },
   "source": [
    "## Создадим меры TF-IDF для классифицируемого текста (X_train, X_test)"
   ]
  },
  {
   "cell_type": "code",
   "execution_count": 26,
   "metadata": {
    "id": "jdhBvR5PYTzK"
   },
   "outputs": [],
   "source": [
    "X_train, X_test = createTFIDF(X_train, X_test, remove_stopwords=False, lemmatize=True, stemmer=False)"
   ]
  },
  {
   "cell_type": "markdown",
   "metadata": {
    "id": "E18VRPt5gcr9"
   },
   "source": [
    "## Создадим и обучим классификатор KNN"
   ]
  },
  {
   "cell_type": "code",
   "execution_count": 32,
   "metadata": {
    "id": "v3BmwS-BaIFk"
   },
   "outputs": [],
   "source": [
    "knn = neighbors.KNeighborsClassifier(n_neighbors=5, weights='distance', algorithm='brute', leaf_size=30, p=2,\n",
    "                                         metric='cosine', metric_params=None, n_jobs=1)"
   ]
  },
  {
   "cell_type": "code",
   "execution_count": 33,
   "metadata": {
    "id": "xa6P_HPkao4j"
   },
   "outputs": [],
   "source": [
    "knn.fit(X_train, y_train)\n",
    "predicted = knn.predict(X_test)"
   ]
  },
  {
   "cell_type": "code",
   "execution_count": 34,
   "metadata": {
    "colab": {
     "base_uri": "https://localhost:8080/"
    },
    "id": "Yre8gvTDbp-d",
    "outputId": "2ec6e3b2-1e55-460c-8fcd-f41754a907fe"
   },
   "outputs": [
    {
     "data": {
      "text/plain": [
       "array(['loc_torgovy_center', 'sched_general', 'loc_dean_mmf', ..., 'wifi',\n",
       "       'loc_atm', 'sched_teacher'], dtype=object)"
      ]
     },
     "execution_count": 34,
     "metadata": {},
     "output_type": "execute_result"
    }
   ],
   "source": [
    "predicted"
   ]
  },
  {
   "cell_type": "markdown",
   "metadata": {
    "id": "mHHIttlPiAnM"
   },
   "source": [
    "## Посчитаем метрики качества классификации"
   ]
  },
  {
   "cell_type": "code",
   "execution_count": 35,
   "metadata": {
    "colab": {
     "base_uri": "https://localhost:8080/"
    },
    "id": "BYtwlXrras70",
    "outputId": "c23c086d-d72c-455d-e07e-4f1c6f4bc4ad"
   },
   "outputs": [
    {
     "name": "stdout",
     "output_type": "stream",
     "text": [
      "KNN with TF-IDF accuracy = 85.158%\n"
     ]
    }
   ],
   "source": [
    "acc = metrics.accuracy_score(y_test, predicted)\n",
    "print('KNN with TF-IDF accuracy = ' + str(round(acc*100,3)) + '%')"
   ]
  },
  {
   "cell_type": "code",
   "execution_count": 36,
   "metadata": {
    "colab": {
     "base_uri": "https://localhost:8080/"
    },
    "id": "6yrcGnk6XsX3",
    "outputId": "0c9aea61-163b-46fc-935b-2ae2d51a3376"
   },
   "outputs": [
    {
     "name": "stdout",
     "output_type": "stream",
     "text": [
      "Cross Validation Accuracy: 0.83 (+/- 0.01)\n",
      "[0.82678002 0.83709806 0.83284613]\n"
     ]
    }
   ],
   "source": [
    "scores = cross_val_score(knn, X_train, y_train, cv=3)\n",
    "print(\"Cross Validation Accuracy: %0.2f (+/- %0.2f)\" % (scores.mean(), scores.std() * 2))\n",
    "print(scores)"
   ]
  },
  {
   "cell_type": "markdown",
   "metadata": {
    "id": "ThXY1EBSiMau"
   },
   "source": [
    "## Можно сделать вывод, что качество классификации текста (\"Russian Intents Dataset\") методом KNN с использованием меры TF-IDF получилось на достаточно высоком уровне (KNN with TF-IDF accuracy = 85%), но хуже, чем с использованием BERT-like модели (f1 score = 95%)."
   ]
  },
  {
   "cell_type": "markdown",
   "metadata": {
    "id": "HF-9HJvXUZPb"
   },
   "source": [
    "## **3. Обучение KNN на эмбеддингах из Bert-подобной сети, с использованием одной из библиотек nmslib/faiss/scann (соединение токенизации с берта и классификации с KNN).**"
   ]
  },
  {
   "cell_type": "code",
   "execution_count": 1,
   "metadata": {
    "id": "hKjVf_uahCLt"
   },
   "outputs": [],
   "source": [
    "import torch"
   ]
  },
  {
   "cell_type": "code",
   "execution_count": 56,
   "metadata": {
    "id": "M2b2r9dqg6MF"
   },
   "outputs": [],
   "source": [
    "def mean_pooling(model_output, attention_mask):\n",
    "    token_embeddings = model_output[0]\n",
    "    input_mask_expanded = attention_mask.unsqueeze(-1).expand(token_embeddings.size()).float()\n",
    "    return torch.sum(token_embeddings * input_mask_expanded, 1) / torch.clamp(input_mask_expanded.sum(1), min = 1e-9)"
   ]
  },
  {
   "cell_type": "code",
   "execution_count": 3,
   "metadata": {
    "id": "H3qjTL-2e8iM"
   },
   "outputs": [],
   "source": [
    "from transformers import AutoTokenizer, AutoModel"
   ]
  },
  {
   "cell_type": "code",
   "execution_count": 39,
   "metadata": {
    "colab": {
     "base_uri": "https://localhost:8080/"
    },
    "id": "a3ihP0d1h-zO",
    "outputId": "54d011d3-50ea-40ae-fbf4-6b8d6ab5d3d0"
   },
   "outputs": [
    {
     "name": "stderr",
     "output_type": "stream",
     "text": [
      "Some weights of the model checkpoint at bert-base-multilingual-cased were not used when initializing BertModel: ['cls.seq_relationship.bias', 'cls.seq_relationship.weight', 'cls.predictions.bias', 'cls.predictions.transform.dense.weight', 'cls.predictions.transform.LayerNorm.weight', 'cls.predictions.decoder.weight', 'cls.predictions.transform.LayerNorm.bias', 'cls.predictions.transform.dense.bias']\n",
      "- This IS expected if you are initializing BertModel from the checkpoint of a model trained on another task or with another architecture (e.g. initializing a BertForSequenceClassification model from a BertForPreTraining model).\n",
      "- This IS NOT expected if you are initializing BertModel from the checkpoint of a model that you expect to be exactly identical (initializing a BertForSequenceClassification model from a BertForSequenceClassification model).\n"
     ]
    }
   ],
   "source": [
    "tokenizer = AutoTokenizer.from_pretrained('bert-base-multilingual-cased')\n",
    "model = AutoModel.from_pretrained('bert-base-multilingual-cased')"
   ]
  },
  {
   "cell_type": "code",
   "execution_count": 40,
   "metadata": {
    "id": "wXdjA1FArpyo"
   },
   "outputs": [],
   "source": [
    "train = pd.read_csv('d:/dataset_train.tsv',delimiter='\\t',encoding=\"utf-8\",names=['text', 'intent'])\n",
    "test = pd.read_csv('d:/dataset_test.tsv',delimiter='\\t',encoding=\"utf-8\",names=['text', 'intent'])"
   ]
  },
  {
   "cell_type": "code",
   "execution_count": 41,
   "metadata": {
    "id": "SDox5B1hpA-2"
   },
   "outputs": [],
   "source": [
    "train_tokens = tokenizer(train['text'].tolist(), padding=True, truncation=True, return_tensors='pt')\n",
    "test_tokens = tokenizer(test['text'].tolist(), padding=True, truncation=True, return_tensors='pt') "
   ]
  },
  {
   "cell_type": "code",
   "execution_count": 42,
   "metadata": {
    "colab": {
     "base_uri": "https://localhost:8080/"
    },
    "id": "SqXOP23WfBuQ",
    "outputId": "d2fde350-f329-42ba-b151-5a0da182993b"
   },
   "outputs": [
    {
     "data": {
      "text/plain": [
       "Encoding(num_tokens=39, attributes=[ids, type_ids, tokens, offsets, attention_mask, special_tokens_mask, overflowing])"
      ]
     },
     "execution_count": 42,
     "metadata": {},
     "output_type": "execute_result"
    }
   ],
   "source": [
    "train_tokens[1]"
   ]
  },
  {
   "cell_type": "code",
   "execution_count": 44,
   "metadata": {
    "id": "J4pLSdCWfBqw"
   },
   "outputs": [],
   "source": [
    "with torch.no_grad():\n",
    "    train_embeddings = mean_pooling(model(**train_tokens),train_tokens['attention_mask'])\n",
    "    test_embeddings = mean_pooling(model(**test_tokens),test_tokens['attention_mask'])"
   ]
  },
  {
   "cell_type": "code",
   "execution_count": 14,
   "metadata": {
    "colab": {
     "base_uri": "https://localhost:8080/"
    },
    "id": "CWDUjCyMlK5I",
    "outputId": "c85dce74-e5d6-41e7-d535-3c19c01df978"
   },
   "outputs": [
    {
     "name": "stdout",
     "output_type": "stream",
     "text": [
      "Collecting package metadata (current_repodata.json): ...working... done\n",
      "Solving environment: ...working... done\n",
      "\n",
      "## Package Plan ##\n",
      "\n",
      "  environment location: C:\\ProgramData\\Anaconda3\n",
      "\n",
      "  added / updated specs:\n",
      "    - nmslib\n",
      "\n",
      "\n",
      "The following packages will be downloaded:\n",
      "\n",
      "    package                    |            build\n",
      "    ---------------------------|-----------------\n",
      "    conda-22.11.1              |   py39hcbf5309_1         908 KB  conda-forge\n",
      "    nmslib-2.1.1               |   py39hefe7e4c_1         480 KB  conda-forge\n",
      "    pybind11-2.10.1            |   py39h59b6b97_0         236 KB\n",
      "    pybind11-global-2.10.1     |   py39h59b6b97_0         169 KB\n",
      "    python_abi-3.9             |           2_cp39           4 KB  conda-forge\n",
      "    ruamel.yaml-0.17.21        |   py39hb82d6ee_1         169 KB  conda-forge\n",
      "    ruamel.yaml.clib-0.2.6     |   py39h2bbff1b_1         101 KB\n",
      "    ------------------------------------------------------------\n",
      "                                           Total:         2.0 MB\n",
      "\n",
      "The following NEW packages will be INSTALLED:\n",
      "\n",
      "  nmslib             conda-forge/win-64::nmslib-2.1.1-py39hefe7e4c_1 None\n",
      "  pybind11           pkgs/main/win-64::pybind11-2.10.1-py39h59b6b97_0 None\n",
      "  pybind11-global    pkgs/main/win-64::pybind11-global-2.10.1-py39h59b6b97_0 None\n",
      "  python_abi         conda-forge/win-64::python_abi-3.9-2_cp39 None\n",
      "  ruamel.yaml        conda-forge/win-64::ruamel.yaml-0.17.21-py39hb82d6ee_1 None\n",
      "  ruamel.yaml.clib   pkgs/main/win-64::ruamel.yaml.clib-0.2.6-py39h2bbff1b_1 None\n",
      "\n",
      "The following packages will be UPDATED:\n",
      "\n",
      "  conda              pkgs/main::conda-22.9.0-py39haa95532_0 --> conda-forge::conda-22.11.1-py39hcbf5309_1 None\n",
      "\n",
      "\n",
      "\n",
      "Downloading and Extracting Packages\n",
      "\n",
      "pybind11-2.10.1      | 236 KB    |            |   0% \n",
      "pybind11-2.10.1      | 236 KB    | 6          |   7% \n",
      "pybind11-2.10.1      | 236 KB    | ######1    |  61% \n",
      "pybind11-2.10.1      | 236 KB    | ########## | 100% \n",
      "pybind11-2.10.1      | 236 KB    | ########## | 100% \n",
      "\n",
      "python_abi-3.9       | 4 KB      |            |   0% \n",
      "python_abi-3.9       | 4 KB      | ########## | 100% \n",
      "python_abi-3.9       | 4 KB      | ########## | 100% \n",
      "\n",
      "conda-22.11.1        | 908 KB    |            |   0% \n",
      "conda-22.11.1        | 908 KB    | #9         |  19% \n",
      "conda-22.11.1        | 908 KB    | ########## | 100% \n",
      "conda-22.11.1        | 908 KB    | ########## | 100% \n",
      "\n",
      "nmslib-2.1.1         | 480 KB    |            |   0% \n",
      "nmslib-2.1.1         | 480 KB    | 3          |   3% \n",
      "nmslib-2.1.1         | 480 KB    | ########## | 100% \n",
      "nmslib-2.1.1         | 480 KB    | ########## | 100% \n",
      "\n",
      "ruamel.yaml.clib-0.2 | 101 KB    |            |   0% \n",
      "ruamel.yaml.clib-0.2 | 101 KB    | ########## | 100% \n",
      "ruamel.yaml.clib-0.2 | 101 KB    | ########## | 100% \n",
      "\n",
      "pybind11-global-2.10 | 169 KB    |            |   0% \n",
      "pybind11-global-2.10 | 169 KB    | 9          |   9% \n",
      "pybind11-global-2.10 | 169 KB    | ########## | 100% \n",
      "pybind11-global-2.10 | 169 KB    | ########## | 100% \n",
      "\n",
      "ruamel.yaml-0.17.21  | 169 KB    |            |   0% \n",
      "ruamel.yaml-0.17.21  | 169 KB    | ########## | 100% \n",
      "ruamel.yaml-0.17.21  | 169 KB    | ########## | 100% \n",
      "Preparing transaction: ...working... done\n",
      "Verifying transaction: ...working... done\n",
      "Executing transaction: ...working... done\n",
      "Retrieving notices: ...working... done\n",
      "\n",
      "Note: you may need to restart the kernel to use updated packages.\n"
     ]
    },
    {
     "name": "stderr",
     "output_type": "stream",
     "text": [
      "\n",
      "\n",
      "==> WARNING: A newer version of conda exists. <==\n",
      "  current version: 22.9.0\n",
      "  latest version: 23.1.0\n",
      "\n",
      "Please update conda by running\n",
      "\n",
      "    $ conda update -n base -c defaults conda\n",
      "\n",
      "\n"
     ]
    }
   ],
   "source": [
    "#conda install -c conda-forge nmslib"
   ]
  },
  {
   "cell_type": "code",
   "execution_count": 17,
   "metadata": {},
   "outputs": [],
   "source": [
    "import nmslib"
   ]
  },
  {
   "cell_type": "code",
   "execution_count": 51,
   "metadata": {
    "id": "vhu_Idd5l2AM"
   },
   "outputs": [],
   "source": [
    "index = nmslib.init(method='hnsw', space='cosinesimil')\n",
    "index.addDataPointBatch(train_embeddings)\n",
    "index.createIndex({'post': 2}, print_progress=True)"
   ]
  },
  {
   "cell_type": "code",
   "execution_count": 54,
   "metadata": {
    "id": "XQl4Gmkrl18y"
   },
   "outputs": [
    {
     "name": "stdout",
     "output_type": "stream",
     "text": [
      "316 находится студент ггф сколько stat_numb_of_students\n",
      "0.065917075 находится студент ммф сколько stat_numb_of_students\n",
      "0.08664274 находится студент фф сколько stat_numb_of_students\n",
      "0.09404367 находится студент эф сколько stat_numb_of_students\n",
      "0.09618044 находится студент сколько stat_numb_of_students\n",
      "0.10664189 находится студент фен сколько stat_numb_of_students\n",
      "\n",
      "351 ну что как дела smalltalk_talk\n",
      "0.11946112 ну что что да как smalltalk_talk\n",
      "0.15970016 чё как как дела smalltalk_talk\n",
      "0.2064687 ну что чем занят smalltalk_talk\n",
      "0.20847398 эй как дела smalltalk_talk\n",
      "0.22090566 чё как что да как smalltalk_talk\n",
      "\n",
      "738 корпус административный 4 этаж кафетерий распологается где loc_cafeteria_new_building_4_etage\n",
      "0.048048973 корпус главный этаж первый кафетерий распологается где loc_cafeteria_new_building_1_etage\n",
      "0.06231916 корпус новый этаж третий кафетерий распологается где loc_cafeteria_new_building_3_etage\n",
      "0.07600796 корпус административный этаж первый бистро распологается где loc_cafeteria_new_building_1_etage\n",
      "0.08676791 корпус главный этаж третий ресторан распологается где loc_cafeteria_new_building_3_etage\n",
      "0.09098309 корпус главный 1 этаж ресторан распологается где loc_cafeteria_new_building_1_etage\n",
      "\n",
      "42 выплата социальная находится finassist\n",
      "0.0 выплата социальная находится finassist\n",
      "0.13095582 выплата социальная finassist\n",
      "0.13843286 выплата социальная получить finassist\n",
      "0.13968033 находится выплата социальная finassist\n",
      "0.13968033 находится выплата социальная finassist\n",
      "\n",
      "513 подключить интернет комната в общежитии nsunet\n",
      "0.050103605 подключить интернет в общежитии nsunet\n",
      "0.064353764 подключить wifi комната в общежитии nsunet\n",
      "0.06776285 подключиться интернет в общежитии nsunet\n",
      "0.081774 вступить интернет комната в общежитии nsunet\n",
      "0.084038734 подключить интернет комната в общежитии. nsunet\n",
      "\n",
      "590 завтра 198758 находится sched_for_group_day\n",
      "0.23283726 находится расписание 21652 завтра sched_for_group_day\n",
      "0.23683947 на завтра расписание группы 210288 находится sched_for_group_day\n",
      "0.25389087 пт расписание 200650 находится sched_for_group_day\n",
      "0.2564149 сегодня расписание 20675 находится sched_for_group_day\n",
      "0.25737095 расписание 195297 находится sched_for_group\n",
      "\n",
      "554 22350 группа sched_for_group\n",
      "0.1068387 22036 группа sched_for_group\n",
      "0.1947074 222727 группа sched_for_group\n",
      "0.21252209 21948 группа sched_for_group\n",
      "0.2455982 212473 группа sched_for_group\n",
      "0.26519883 202281 группа sched_for_group\n",
      "\n",
      "174 институт электрометрии найти loc_termophysinstitute\n",
      "0.0 институт электрометрии найти loc_automationelectrometryinstitute\n",
      "0.0 институт электрометрии найти loc_histinstitute\n",
      "0.0 институт электрометрии найти loc_lawinstitute\n",
      "0.0 институт электрометрии найти loc_chiminstitute\n",
      "0.1518181 найти институт электрометрии loc_lawinstitute\n",
      "\n",
      "5 справка студента фит оформить conform\n",
      "0.037204146 справка студента фит оформлять conform\n",
      "0.054370463 справка студента фия оформить conform\n",
      "0.059520602 справка студента фф оформить conform\n",
      "0.06790578 справка студента эф оформить conform\n",
      "0.07098997 справка студента фия оформлять conform\n",
      "\n",
      "416 доехать здание без пропуск. enter_university_without_pass\n",
      "0.08155006 ехать здание без пропуск. enter_university_without_pass\n",
      "0.094019175 идти здание без пропуск. enter_university_without_pass\n",
      "0.09516221 пройти здание без пропуск. enter_university_without_pass\n",
      "0.14731956 доехать здание без пропуск enter_university_without_pass\n",
      "0.16849613 без пропуск здание ехать. enter_university_without_pass\n",
      "\n"
     ]
    }
   ],
   "source": [
    "for n in np.random.randint(0,test.shape[0],10):\n",
    "    id,dist=index.knnQuery(test_embeddings[n],k=5)\n",
    "    print(n, test.iloc[n].text,test.iloc[n].intent)\n",
    "    for i,d in zip(id,dist):\n",
    "        print(d,train.iloc[i].text,train.iloc[i].intent)\n",
    "    print()"
   ]
  },
  {
   "cell_type": "code",
   "execution_count": null,
   "metadata": {},
   "outputs": [],
   "source": []
  }
 ],
 "metadata": {
  "accelerator": "GPU",
  "colab": {
   "provenance": []
  },
  "gpuClass": "standard",
  "kernelspec": {
   "display_name": "Python 3 (ipykernel)",
   "language": "python",
   "name": "python3"
  },
  "language_info": {
   "codemirror_mode": {
    "name": "ipython",
    "version": 3
   },
   "file_extension": ".py",
   "mimetype": "text/x-python",
   "name": "python",
   "nbconvert_exporter": "python",
   "pygments_lexer": "ipython3",
   "version": "3.9.12"
  },
  "widgets": {
   "application/vnd.jupyter.widget-state+json": {
    "03cba694c2be41b8b7b7d85d957f5822": {
     "model_module": "@jupyter-widgets/controls",
     "model_module_version": "1.5.0",
     "model_name": "FloatProgressModel",
     "state": {
      "_dom_classes": [],
      "_model_module": "@jupyter-widgets/controls",
      "_model_module_version": "1.5.0",
      "_model_name": "FloatProgressModel",
      "_view_count": null,
      "_view_module": "@jupyter-widgets/controls",
      "_view_module_version": "1.5.0",
      "_view_name": "ProgressView",
      "bar_style": "success",
      "description": "",
      "description_tooltip": null,
      "layout": "IPY_MODEL_b32a76de65de40a7bef6175aaad1b54e",
      "max": 714314041,
      "min": 0,
      "orientation": "horizontal",
      "style": "IPY_MODEL_16a5c95c1e824660a795b55f34e092ab",
      "value": 714314041
     }
    },
    "0796bd1a1178474084a3508086b7bc50": {
     "model_module": "@jupyter-widgets/base",
     "model_module_version": "1.2.0",
     "model_name": "LayoutModel",
     "state": {
      "_model_module": "@jupyter-widgets/base",
      "_model_module_version": "1.2.0",
      "_model_name": "LayoutModel",
      "_view_count": null,
      "_view_module": "@jupyter-widgets/base",
      "_view_module_version": "1.2.0",
      "_view_name": "LayoutView",
      "align_content": null,
      "align_items": null,
      "align_self": null,
      "border": null,
      "bottom": null,
      "display": null,
      "flex": null,
      "flex_flow": null,
      "grid_area": null,
      "grid_auto_columns": null,
      "grid_auto_flow": null,
      "grid_auto_rows": null,
      "grid_column": null,
      "grid_gap": null,
      "grid_row": null,
      "grid_template_areas": null,
      "grid_template_columns": null,
      "grid_template_rows": null,
      "height": null,
      "justify_content": null,
      "justify_items": null,
      "left": null,
      "margin": null,
      "max_height": null,
      "max_width": null,
      "min_height": null,
      "min_width": null,
      "object_fit": null,
      "object_position": null,
      "order": null,
      "overflow": null,
      "overflow_x": null,
      "overflow_y": null,
      "padding": null,
      "right": null,
      "top": null,
      "visibility": null,
      "width": null
     }
    },
    "098023bd62b948789d55e0f98fa86b2f": {
     "model_module": "@jupyter-widgets/controls",
     "model_module_version": "1.5.0",
     "model_name": "DescriptionStyleModel",
     "state": {
      "_model_module": "@jupyter-widgets/controls",
      "_model_module_version": "1.5.0",
      "_model_name": "DescriptionStyleModel",
      "_view_count": null,
      "_view_module": "@jupyter-widgets/base",
      "_view_module_version": "1.2.0",
      "_view_name": "StyleView",
      "description_width": ""
     }
    },
    "0e41ee2406ed44379f1cd8c86eb96a1c": {
     "model_module": "@jupyter-widgets/controls",
     "model_module_version": "1.5.0",
     "model_name": "DescriptionStyleModel",
     "state": {
      "_model_module": "@jupyter-widgets/controls",
      "_model_module_version": "1.5.0",
      "_model_name": "DescriptionStyleModel",
      "_view_count": null,
      "_view_module": "@jupyter-widgets/base",
      "_view_module_version": "1.2.0",
      "_view_name": "StyleView",
      "description_width": ""
     }
    },
    "16a5c95c1e824660a795b55f34e092ab": {
     "model_module": "@jupyter-widgets/controls",
     "model_module_version": "1.5.0",
     "model_name": "ProgressStyleModel",
     "state": {
      "_model_module": "@jupyter-widgets/controls",
      "_model_module_version": "1.5.0",
      "_model_name": "ProgressStyleModel",
      "_view_count": null,
      "_view_module": "@jupyter-widgets/base",
      "_view_module_version": "1.2.0",
      "_view_name": "StyleView",
      "bar_color": null,
      "description_width": ""
     }
    },
    "269f807082ca4bbaa1f5284adc020e42": {
     "model_module": "@jupyter-widgets/controls",
     "model_module_version": "1.5.0",
     "model_name": "DescriptionStyleModel",
     "state": {
      "_model_module": "@jupyter-widgets/controls",
      "_model_module_version": "1.5.0",
      "_model_name": "DescriptionStyleModel",
      "_view_count": null,
      "_view_module": "@jupyter-widgets/base",
      "_view_module_version": "1.2.0",
      "_view_name": "StyleView",
      "description_width": ""
     }
    },
    "27489400ce6e45b697e8037d5bdee4d0": {
     "model_module": "@jupyter-widgets/base",
     "model_module_version": "1.2.0",
     "model_name": "LayoutModel",
     "state": {
      "_model_module": "@jupyter-widgets/base",
      "_model_module_version": "1.2.0",
      "_model_name": "LayoutModel",
      "_view_count": null,
      "_view_module": "@jupyter-widgets/base",
      "_view_module_version": "1.2.0",
      "_view_name": "LayoutView",
      "align_content": null,
      "align_items": null,
      "align_self": null,
      "border": null,
      "bottom": null,
      "display": null,
      "flex": null,
      "flex_flow": null,
      "grid_area": null,
      "grid_auto_columns": null,
      "grid_auto_flow": null,
      "grid_auto_rows": null,
      "grid_column": null,
      "grid_gap": null,
      "grid_row": null,
      "grid_template_areas": null,
      "grid_template_columns": null,
      "grid_template_rows": null,
      "height": null,
      "justify_content": null,
      "justify_items": null,
      "left": null,
      "margin": null,
      "max_height": null,
      "max_width": null,
      "min_height": null,
      "min_width": null,
      "object_fit": null,
      "object_position": null,
      "order": null,
      "overflow": null,
      "overflow_x": null,
      "overflow_y": null,
      "padding": null,
      "right": null,
      "top": null,
      "visibility": null,
      "width": null
     }
    },
    "2abbbfa5b4d74e6181aa2ffdd1d1df15": {
     "model_module": "@jupyter-widgets/base",
     "model_module_version": "1.2.0",
     "model_name": "LayoutModel",
     "state": {
      "_model_module": "@jupyter-widgets/base",
      "_model_module_version": "1.2.0",
      "_model_name": "LayoutModel",
      "_view_count": null,
      "_view_module": "@jupyter-widgets/base",
      "_view_module_version": "1.2.0",
      "_view_name": "LayoutView",
      "align_content": null,
      "align_items": null,
      "align_self": null,
      "border": null,
      "bottom": null,
      "display": null,
      "flex": null,
      "flex_flow": null,
      "grid_area": null,
      "grid_auto_columns": null,
      "grid_auto_flow": null,
      "grid_auto_rows": null,
      "grid_column": null,
      "grid_gap": null,
      "grid_row": null,
      "grid_template_areas": null,
      "grid_template_columns": null,
      "grid_template_rows": null,
      "height": null,
      "justify_content": null,
      "justify_items": null,
      "left": null,
      "margin": null,
      "max_height": null,
      "max_width": null,
      "min_height": null,
      "min_width": null,
      "object_fit": null,
      "object_position": null,
      "order": null,
      "overflow": null,
      "overflow_x": null,
      "overflow_y": null,
      "padding": null,
      "right": null,
      "top": null,
      "visibility": null,
      "width": null
     }
    },
    "2e8b44d7dc50417a94ccd00e862a4baa": {
     "model_module": "@jupyter-widgets/controls",
     "model_module_version": "1.5.0",
     "model_name": "DescriptionStyleModel",
     "state": {
      "_model_module": "@jupyter-widgets/controls",
      "_model_module_version": "1.5.0",
      "_model_name": "DescriptionStyleModel",
      "_view_count": null,
      "_view_module": "@jupyter-widgets/base",
      "_view_module_version": "1.2.0",
      "_view_name": "StyleView",
      "description_width": ""
     }
    },
    "2f779394a4094a308703917991723f91": {
     "model_module": "@jupyter-widgets/controls",
     "model_module_version": "1.5.0",
     "model_name": "FloatProgressModel",
     "state": {
      "_dom_classes": [],
      "_model_module": "@jupyter-widgets/controls",
      "_model_module_version": "1.5.0",
      "_model_name": "FloatProgressModel",
      "_view_count": null,
      "_view_module": "@jupyter-widgets/controls",
      "_view_module_version": "1.5.0",
      "_view_name": "ProgressView",
      "bar_style": "success",
      "description": "",
      "description_tooltip": null,
      "layout": "IPY_MODEL_2abbbfa5b4d74e6181aa2ffdd1d1df15",
      "max": 625,
      "min": 0,
      "orientation": "horizontal",
      "style": "IPY_MODEL_b877b4212f3644f4bdee09279e093a74",
      "value": 625
     }
    },
    "31d6d5daa8884af4b7b1c41e79968e0e": {
     "model_module": "@jupyter-widgets/controls",
     "model_module_version": "1.5.0",
     "model_name": "ProgressStyleModel",
     "state": {
      "_model_module": "@jupyter-widgets/controls",
      "_model_module_version": "1.5.0",
      "_model_name": "ProgressStyleModel",
      "_view_count": null,
      "_view_module": "@jupyter-widgets/base",
      "_view_module_version": "1.2.0",
      "_view_name": "StyleView",
      "bar_color": null,
      "description_width": ""
     }
    },
    "32355b3782514798950f827329398492": {
     "model_module": "@jupyter-widgets/controls",
     "model_module_version": "1.5.0",
     "model_name": "DescriptionStyleModel",
     "state": {
      "_model_module": "@jupyter-widgets/controls",
      "_model_module_version": "1.5.0",
      "_model_name": "DescriptionStyleModel",
      "_view_count": null,
      "_view_module": "@jupyter-widgets/base",
      "_view_module_version": "1.2.0",
      "_view_name": "StyleView",
      "description_width": ""
     }
    },
    "38acafca52a443c89477e25fa810cdd0": {
     "model_module": "@jupyter-widgets/controls",
     "model_module_version": "1.5.0",
     "model_name": "HTMLModel",
     "state": {
      "_dom_classes": [],
      "_model_module": "@jupyter-widgets/controls",
      "_model_module_version": "1.5.0",
      "_model_name": "HTMLModel",
      "_view_count": null,
      "_view_module": "@jupyter-widgets/controls",
      "_view_module_version": "1.5.0",
      "_view_name": "HTMLView",
      "description": "",
      "description_tooltip": null,
      "layout": "IPY_MODEL_4f3054520b5344a7983a384a63ae3846",
      "placeholder": "​",
      "style": "IPY_MODEL_5b328734da5f4eff9f8fc3c5d108da18",
      "value": "Downloading (…)&quot;pytorch_model.bin&quot;;: 100%"
     }
    },
    "3b458f7380cd4fc9aa6c99e8d89a57af": {
     "model_module": "@jupyter-widgets/controls",
     "model_module_version": "1.5.0",
     "model_name": "DescriptionStyleModel",
     "state": {
      "_model_module": "@jupyter-widgets/controls",
      "_model_module_version": "1.5.0",
      "_model_name": "DescriptionStyleModel",
      "_view_count": null,
      "_view_module": "@jupyter-widgets/base",
      "_view_module_version": "1.2.0",
      "_view_name": "StyleView",
      "description_width": ""
     }
    },
    "3bb74c46c04b4865a8dfae5fa8b71417": {
     "model_module": "@jupyter-widgets/controls",
     "model_module_version": "1.5.0",
     "model_name": "HBoxModel",
     "state": {
      "_dom_classes": [],
      "_model_module": "@jupyter-widgets/controls",
      "_model_module_version": "1.5.0",
      "_model_name": "HBoxModel",
      "_view_count": null,
      "_view_module": "@jupyter-widgets/controls",
      "_view_module_version": "1.5.0",
      "_view_name": "HBoxView",
      "box_style": "",
      "children": [
       "IPY_MODEL_41c671be324f47cebd447446ee4fe3b3",
       "IPY_MODEL_52f9e3780ddf464284c379fe5165db69",
       "IPY_MODEL_9c2240eb01514a288d2ee989932d8b6d"
      ],
      "layout": "IPY_MODEL_a5ca023985c4481d9b6bd2971a055e18"
     }
    },
    "3ca6c6446a0e42c88fa180d2a692dd25": {
     "model_module": "@jupyter-widgets/controls",
     "model_module_version": "1.5.0",
     "model_name": "DescriptionStyleModel",
     "state": {
      "_model_module": "@jupyter-widgets/controls",
      "_model_module_version": "1.5.0",
      "_model_name": "DescriptionStyleModel",
      "_view_count": null,
      "_view_module": "@jupyter-widgets/base",
      "_view_module_version": "1.2.0",
      "_view_name": "StyleView",
      "description_width": ""
     }
    },
    "3cf04f92e59e4d0ea11e811220fcfb1f": {
     "model_module": "@jupyter-widgets/base",
     "model_module_version": "1.2.0",
     "model_name": "LayoutModel",
     "state": {
      "_model_module": "@jupyter-widgets/base",
      "_model_module_version": "1.2.0",
      "_model_name": "LayoutModel",
      "_view_count": null,
      "_view_module": "@jupyter-widgets/base",
      "_view_module_version": "1.2.0",
      "_view_name": "LayoutView",
      "align_content": null,
      "align_items": null,
      "align_self": null,
      "border": null,
      "bottom": null,
      "display": null,
      "flex": null,
      "flex_flow": null,
      "grid_area": null,
      "grid_auto_columns": null,
      "grid_auto_flow": null,
      "grid_auto_rows": null,
      "grid_column": null,
      "grid_gap": null,
      "grid_row": null,
      "grid_template_areas": null,
      "grid_template_columns": null,
      "grid_template_rows": null,
      "height": null,
      "justify_content": null,
      "justify_items": null,
      "left": null,
      "margin": null,
      "max_height": null,
      "max_width": null,
      "min_height": null,
      "min_width": null,
      "object_fit": null,
      "object_position": null,
      "order": null,
      "overflow": null,
      "overflow_x": null,
      "overflow_y": null,
      "padding": null,
      "right": null,
      "top": null,
      "visibility": null,
      "width": null
     }
    },
    "3e5dfe68a900419fa798bb3f61947f51": {
     "model_module": "@jupyter-widgets/base",
     "model_module_version": "1.2.0",
     "model_name": "LayoutModel",
     "state": {
      "_model_module": "@jupyter-widgets/base",
      "_model_module_version": "1.2.0",
      "_model_name": "LayoutModel",
      "_view_count": null,
      "_view_module": "@jupyter-widgets/base",
      "_view_module_version": "1.2.0",
      "_view_name": "LayoutView",
      "align_content": null,
      "align_items": null,
      "align_self": null,
      "border": null,
      "bottom": null,
      "display": null,
      "flex": null,
      "flex_flow": null,
      "grid_area": null,
      "grid_auto_columns": null,
      "grid_auto_flow": null,
      "grid_auto_rows": null,
      "grid_column": null,
      "grid_gap": null,
      "grid_row": null,
      "grid_template_areas": null,
      "grid_template_columns": null,
      "grid_template_rows": null,
      "height": null,
      "justify_content": null,
      "justify_items": null,
      "left": null,
      "margin": null,
      "max_height": null,
      "max_width": null,
      "min_height": null,
      "min_width": null,
      "object_fit": null,
      "object_position": null,
      "order": null,
      "overflow": null,
      "overflow_x": null,
      "overflow_y": null,
      "padding": null,
      "right": null,
      "top": null,
      "visibility": null,
      "width": null
     }
    },
    "40a5fbbfc5d74932bcd27b6f2d124a1d": {
     "model_module": "@jupyter-widgets/base",
     "model_module_version": "1.2.0",
     "model_name": "LayoutModel",
     "state": {
      "_model_module": "@jupyter-widgets/base",
      "_model_module_version": "1.2.0",
      "_model_name": "LayoutModel",
      "_view_count": null,
      "_view_module": "@jupyter-widgets/base",
      "_view_module_version": "1.2.0",
      "_view_name": "LayoutView",
      "align_content": null,
      "align_items": null,
      "align_self": null,
      "border": null,
      "bottom": null,
      "display": null,
      "flex": null,
      "flex_flow": null,
      "grid_area": null,
      "grid_auto_columns": null,
      "grid_auto_flow": null,
      "grid_auto_rows": null,
      "grid_column": null,
      "grid_gap": null,
      "grid_row": null,
      "grid_template_areas": null,
      "grid_template_columns": null,
      "grid_template_rows": null,
      "height": null,
      "justify_content": null,
      "justify_items": null,
      "left": null,
      "margin": null,
      "max_height": null,
      "max_width": null,
      "min_height": null,
      "min_width": null,
      "object_fit": null,
      "object_position": null,
      "order": null,
      "overflow": null,
      "overflow_x": null,
      "overflow_y": null,
      "padding": null,
      "right": null,
      "top": null,
      "visibility": null,
      "width": null
     }
    },
    "41c671be324f47cebd447446ee4fe3b3": {
     "model_module": "@jupyter-widgets/controls",
     "model_module_version": "1.5.0",
     "model_name": "HTMLModel",
     "state": {
      "_dom_classes": [],
      "_model_module": "@jupyter-widgets/controls",
      "_model_module_version": "1.5.0",
      "_model_name": "HTMLModel",
      "_view_count": null,
      "_view_module": "@jupyter-widgets/controls",
      "_view_module_version": "1.5.0",
      "_view_name": "HTMLView",
      "description": "",
      "description_tooltip": null,
      "layout": "IPY_MODEL_8bb0942d38be4f219e98e771d8080e57",
      "placeholder": "​",
      "style": "IPY_MODEL_3b458f7380cd4fc9aa6c99e8d89a57af",
      "value": "Downloading (…)/main/tokenizer.json: 100%"
     }
    },
    "4e2d8d5f1f924f6d89ccfdc7d6380f6d": {
     "model_module": "@jupyter-widgets/base",
     "model_module_version": "1.2.0",
     "model_name": "LayoutModel",
     "state": {
      "_model_module": "@jupyter-widgets/base",
      "_model_module_version": "1.2.0",
      "_model_name": "LayoutModel",
      "_view_count": null,
      "_view_module": "@jupyter-widgets/base",
      "_view_module_version": "1.2.0",
      "_view_name": "LayoutView",
      "align_content": null,
      "align_items": null,
      "align_self": null,
      "border": null,
      "bottom": null,
      "display": null,
      "flex": null,
      "flex_flow": null,
      "grid_area": null,
      "grid_auto_columns": null,
      "grid_auto_flow": null,
      "grid_auto_rows": null,
      "grid_column": null,
      "grid_gap": null,
      "grid_row": null,
      "grid_template_areas": null,
      "grid_template_columns": null,
      "grid_template_rows": null,
      "height": null,
      "justify_content": null,
      "justify_items": null,
      "left": null,
      "margin": null,
      "max_height": null,
      "max_width": null,
      "min_height": null,
      "min_width": null,
      "object_fit": null,
      "object_position": null,
      "order": null,
      "overflow": null,
      "overflow_x": null,
      "overflow_y": null,
      "padding": null,
      "right": null,
      "top": null,
      "visibility": null,
      "width": null
     }
    },
    "4f3054520b5344a7983a384a63ae3846": {
     "model_module": "@jupyter-widgets/base",
     "model_module_version": "1.2.0",
     "model_name": "LayoutModel",
     "state": {
      "_model_module": "@jupyter-widgets/base",
      "_model_module_version": "1.2.0",
      "_model_name": "LayoutModel",
      "_view_count": null,
      "_view_module": "@jupyter-widgets/base",
      "_view_module_version": "1.2.0",
      "_view_name": "LayoutView",
      "align_content": null,
      "align_items": null,
      "align_self": null,
      "border": null,
      "bottom": null,
      "display": null,
      "flex": null,
      "flex_flow": null,
      "grid_area": null,
      "grid_auto_columns": null,
      "grid_auto_flow": null,
      "grid_auto_rows": null,
      "grid_column": null,
      "grid_gap": null,
      "grid_row": null,
      "grid_template_areas": null,
      "grid_template_columns": null,
      "grid_template_rows": null,
      "height": null,
      "justify_content": null,
      "justify_items": null,
      "left": null,
      "margin": null,
      "max_height": null,
      "max_width": null,
      "min_height": null,
      "min_width": null,
      "object_fit": null,
      "object_position": null,
      "order": null,
      "overflow": null,
      "overflow_x": null,
      "overflow_y": null,
      "padding": null,
      "right": null,
      "top": null,
      "visibility": null,
      "width": null
     }
    },
    "52f9e3780ddf464284c379fe5165db69": {
     "model_module": "@jupyter-widgets/controls",
     "model_module_version": "1.5.0",
     "model_name": "FloatProgressModel",
     "state": {
      "_dom_classes": [],
      "_model_module": "@jupyter-widgets/controls",
      "_model_module_version": "1.5.0",
      "_model_name": "FloatProgressModel",
      "_view_count": null,
      "_view_module": "@jupyter-widgets/controls",
      "_view_module_version": "1.5.0",
      "_view_name": "ProgressView",
      "bar_style": "success",
      "description": "",
      "description_tooltip": null,
      "layout": "IPY_MODEL_7027892b2040461085cd956681730900",
      "max": 1961828,
      "min": 0,
      "orientation": "horizontal",
      "style": "IPY_MODEL_e310b06a0e384746ab04515ba0d008fd",
      "value": 1961828
     }
    },
    "5b328734da5f4eff9f8fc3c5d108da18": {
     "model_module": "@jupyter-widgets/controls",
     "model_module_version": "1.5.0",
     "model_name": "DescriptionStyleModel",
     "state": {
      "_model_module": "@jupyter-widgets/controls",
      "_model_module_version": "1.5.0",
      "_model_name": "DescriptionStyleModel",
      "_view_count": null,
      "_view_module": "@jupyter-widgets/base",
      "_view_module_version": "1.2.0",
      "_view_name": "StyleView",
      "description_width": ""
     }
    },
    "60208499c1bd4e6caddcce8b6dd5b0f7": {
     "model_module": "@jupyter-widgets/controls",
     "model_module_version": "1.5.0",
     "model_name": "HTMLModel",
     "state": {
      "_dom_classes": [],
      "_model_module": "@jupyter-widgets/controls",
      "_model_module_version": "1.5.0",
      "_model_name": "HTMLModel",
      "_view_count": null,
      "_view_module": "@jupyter-widgets/controls",
      "_view_module_version": "1.5.0",
      "_view_name": "HTMLView",
      "description": "",
      "description_tooltip": null,
      "layout": "IPY_MODEL_75a69c1ad409409d81489119d2b08cf2",
      "placeholder": "​",
      "style": "IPY_MODEL_2e8b44d7dc50417a94ccd00e862a4baa",
      "value": "Downloading (…)lve/main/config.json: 100%"
     }
    },
    "616752760be7463bae3a8d9a47be9039": {
     "model_module": "@jupyter-widgets/controls",
     "model_module_version": "1.5.0",
     "model_name": "HTMLModel",
     "state": {
      "_dom_classes": [],
      "_model_module": "@jupyter-widgets/controls",
      "_model_module_version": "1.5.0",
      "_model_name": "HTMLModel",
      "_view_count": null,
      "_view_module": "@jupyter-widgets/controls",
      "_view_module_version": "1.5.0",
      "_view_name": "HTMLView",
      "description": "",
      "description_tooltip": null,
      "layout": "IPY_MODEL_f3ff15907b39426794408d0391a36181",
      "placeholder": "​",
      "style": "IPY_MODEL_32355b3782514798950f827329398492",
      "value": " 625/625 [00:00&lt;00:00, 6.33kB/s]"
     }
    },
    "63bf0749a69a4540bd38bd463621ce78": {
     "model_module": "@jupyter-widgets/base",
     "model_module_version": "1.2.0",
     "model_name": "LayoutModel",
     "state": {
      "_model_module": "@jupyter-widgets/base",
      "_model_module_version": "1.2.0",
      "_model_name": "LayoutModel",
      "_view_count": null,
      "_view_module": "@jupyter-widgets/base",
      "_view_module_version": "1.2.0",
      "_view_name": "LayoutView",
      "align_content": null,
      "align_items": null,
      "align_self": null,
      "border": null,
      "bottom": null,
      "display": null,
      "flex": null,
      "flex_flow": null,
      "grid_area": null,
      "grid_auto_columns": null,
      "grid_auto_flow": null,
      "grid_auto_rows": null,
      "grid_column": null,
      "grid_gap": null,
      "grid_row": null,
      "grid_template_areas": null,
      "grid_template_columns": null,
      "grid_template_rows": null,
      "height": null,
      "justify_content": null,
      "justify_items": null,
      "left": null,
      "margin": null,
      "max_height": null,
      "max_width": null,
      "min_height": null,
      "min_width": null,
      "object_fit": null,
      "object_position": null,
      "order": null,
      "overflow": null,
      "overflow_x": null,
      "overflow_y": null,
      "padding": null,
      "right": null,
      "top": null,
      "visibility": null,
      "width": null
     }
    },
    "7027892b2040461085cd956681730900": {
     "model_module": "@jupyter-widgets/base",
     "model_module_version": "1.2.0",
     "model_name": "LayoutModel",
     "state": {
      "_model_module": "@jupyter-widgets/base",
      "_model_module_version": "1.2.0",
      "_model_name": "LayoutModel",
      "_view_count": null,
      "_view_module": "@jupyter-widgets/base",
      "_view_module_version": "1.2.0",
      "_view_name": "LayoutView",
      "align_content": null,
      "align_items": null,
      "align_self": null,
      "border": null,
      "bottom": null,
      "display": null,
      "flex": null,
      "flex_flow": null,
      "grid_area": null,
      "grid_auto_columns": null,
      "grid_auto_flow": null,
      "grid_auto_rows": null,
      "grid_column": null,
      "grid_gap": null,
      "grid_row": null,
      "grid_template_areas": null,
      "grid_template_columns": null,
      "grid_template_rows": null,
      "height": null,
      "justify_content": null,
      "justify_items": null,
      "left": null,
      "margin": null,
      "max_height": null,
      "max_width": null,
      "min_height": null,
      "min_width": null,
      "object_fit": null,
      "object_position": null,
      "order": null,
      "overflow": null,
      "overflow_x": null,
      "overflow_y": null,
      "padding": null,
      "right": null,
      "top": null,
      "visibility": null,
      "width": null
     }
    },
    "75a69c1ad409409d81489119d2b08cf2": {
     "model_module": "@jupyter-widgets/base",
     "model_module_version": "1.2.0",
     "model_name": "LayoutModel",
     "state": {
      "_model_module": "@jupyter-widgets/base",
      "_model_module_version": "1.2.0",
      "_model_name": "LayoutModel",
      "_view_count": null,
      "_view_module": "@jupyter-widgets/base",
      "_view_module_version": "1.2.0",
      "_view_name": "LayoutView",
      "align_content": null,
      "align_items": null,
      "align_self": null,
      "border": null,
      "bottom": null,
      "display": null,
      "flex": null,
      "flex_flow": null,
      "grid_area": null,
      "grid_auto_columns": null,
      "grid_auto_flow": null,
      "grid_auto_rows": null,
      "grid_column": null,
      "grid_gap": null,
      "grid_row": null,
      "grid_template_areas": null,
      "grid_template_columns": null,
      "grid_template_rows": null,
      "height": null,
      "justify_content": null,
      "justify_items": null,
      "left": null,
      "margin": null,
      "max_height": null,
      "max_width": null,
      "min_height": null,
      "min_width": null,
      "object_fit": null,
      "object_position": null,
      "order": null,
      "overflow": null,
      "overflow_x": null,
      "overflow_y": null,
      "padding": null,
      "right": null,
      "top": null,
      "visibility": null,
      "width": null
     }
    },
    "8351e6e3db704590be4aaea1b230e44e": {
     "model_module": "@jupyter-widgets/controls",
     "model_module_version": "1.5.0",
     "model_name": "ProgressStyleModel",
     "state": {
      "_model_module": "@jupyter-widgets/controls",
      "_model_module_version": "1.5.0",
      "_model_name": "ProgressStyleModel",
      "_view_count": null,
      "_view_module": "@jupyter-widgets/base",
      "_view_module_version": "1.2.0",
      "_view_name": "StyleView",
      "bar_color": null,
      "description_width": ""
     }
    },
    "85201fa8bb524ac89f4c3cc56b4ac527": {
     "model_module": "@jupyter-widgets/controls",
     "model_module_version": "1.5.0",
     "model_name": "FloatProgressModel",
     "state": {
      "_dom_classes": [],
      "_model_module": "@jupyter-widgets/controls",
      "_model_module_version": "1.5.0",
      "_model_name": "FloatProgressModel",
      "_view_count": null,
      "_view_module": "@jupyter-widgets/controls",
      "_view_module_version": "1.5.0",
      "_view_name": "ProgressView",
      "bar_style": "success",
      "description": "",
      "description_tooltip": null,
      "layout": "IPY_MODEL_63bf0749a69a4540bd38bd463621ce78",
      "max": 995526,
      "min": 0,
      "orientation": "horizontal",
      "style": "IPY_MODEL_31d6d5daa8884af4b7b1c41e79968e0e",
      "value": 995526
     }
    },
    "8bb0942d38be4f219e98e771d8080e57": {
     "model_module": "@jupyter-widgets/base",
     "model_module_version": "1.2.0",
     "model_name": "LayoutModel",
     "state": {
      "_model_module": "@jupyter-widgets/base",
      "_model_module_version": "1.2.0",
      "_model_name": "LayoutModel",
      "_view_count": null,
      "_view_module": "@jupyter-widgets/base",
      "_view_module_version": "1.2.0",
      "_view_name": "LayoutView",
      "align_content": null,
      "align_items": null,
      "align_self": null,
      "border": null,
      "bottom": null,
      "display": null,
      "flex": null,
      "flex_flow": null,
      "grid_area": null,
      "grid_auto_columns": null,
      "grid_auto_flow": null,
      "grid_auto_rows": null,
      "grid_column": null,
      "grid_gap": null,
      "grid_row": null,
      "grid_template_areas": null,
      "grid_template_columns": null,
      "grid_template_rows": null,
      "height": null,
      "justify_content": null,
      "justify_items": null,
      "left": null,
      "margin": null,
      "max_height": null,
      "max_width": null,
      "min_height": null,
      "min_width": null,
      "object_fit": null,
      "object_position": null,
      "order": null,
      "overflow": null,
      "overflow_x": null,
      "overflow_y": null,
      "padding": null,
      "right": null,
      "top": null,
      "visibility": null,
      "width": null
     }
    },
    "9c2240eb01514a288d2ee989932d8b6d": {
     "model_module": "@jupyter-widgets/controls",
     "model_module_version": "1.5.0",
     "model_name": "HTMLModel",
     "state": {
      "_dom_classes": [],
      "_model_module": "@jupyter-widgets/controls",
      "_model_module_version": "1.5.0",
      "_model_name": "HTMLModel",
      "_view_count": null,
      "_view_module": "@jupyter-widgets/controls",
      "_view_module_version": "1.5.0",
      "_view_name": "HTMLView",
      "description": "",
      "description_tooltip": null,
      "layout": "IPY_MODEL_c1598ad91c7d48fba159588ec3b5b730",
      "placeholder": "​",
      "style": "IPY_MODEL_098023bd62b948789d55e0f98fa86b2f",
      "value": " 1.96M/1.96M [00:01&lt;00:00, 1.27MB/s]"
     }
    },
    "9e2c68466e324eb2a80fb17e666fefa4": {
     "model_module": "@jupyter-widgets/controls",
     "model_module_version": "1.5.0",
     "model_name": "FloatProgressModel",
     "state": {
      "_dom_classes": [],
      "_model_module": "@jupyter-widgets/controls",
      "_model_module_version": "1.5.0",
      "_model_name": "FloatProgressModel",
      "_view_count": null,
      "_view_module": "@jupyter-widgets/controls",
      "_view_module_version": "1.5.0",
      "_view_name": "ProgressView",
      "bar_style": "success",
      "description": "",
      "description_tooltip": null,
      "layout": "IPY_MODEL_d20aded60fab487888e0d1899ff022a9",
      "max": 29,
      "min": 0,
      "orientation": "horizontal",
      "style": "IPY_MODEL_8351e6e3db704590be4aaea1b230e44e",
      "value": 29
     }
    },
    "a1bb0304c441483ba2e76eb031ac8566": {
     "model_module": "@jupyter-widgets/controls",
     "model_module_version": "1.5.0",
     "model_name": "DescriptionStyleModel",
     "state": {
      "_model_module": "@jupyter-widgets/controls",
      "_model_module_version": "1.5.0",
      "_model_name": "DescriptionStyleModel",
      "_view_count": null,
      "_view_module": "@jupyter-widgets/base",
      "_view_module_version": "1.2.0",
      "_view_name": "StyleView",
      "description_width": ""
     }
    },
    "a5ca023985c4481d9b6bd2971a055e18": {
     "model_module": "@jupyter-widgets/base",
     "model_module_version": "1.2.0",
     "model_name": "LayoutModel",
     "state": {
      "_model_module": "@jupyter-widgets/base",
      "_model_module_version": "1.2.0",
      "_model_name": "LayoutModel",
      "_view_count": null,
      "_view_module": "@jupyter-widgets/base",
      "_view_module_version": "1.2.0",
      "_view_name": "LayoutView",
      "align_content": null,
      "align_items": null,
      "align_self": null,
      "border": null,
      "bottom": null,
      "display": null,
      "flex": null,
      "flex_flow": null,
      "grid_area": null,
      "grid_auto_columns": null,
      "grid_auto_flow": null,
      "grid_auto_rows": null,
      "grid_column": null,
      "grid_gap": null,
      "grid_row": null,
      "grid_template_areas": null,
      "grid_template_columns": null,
      "grid_template_rows": null,
      "height": null,
      "justify_content": null,
      "justify_items": null,
      "left": null,
      "margin": null,
      "max_height": null,
      "max_width": null,
      "min_height": null,
      "min_width": null,
      "object_fit": null,
      "object_position": null,
      "order": null,
      "overflow": null,
      "overflow_x": null,
      "overflow_y": null,
      "padding": null,
      "right": null,
      "top": null,
      "visibility": null,
      "width": null
     }
    },
    "a807bd1f76954bbf95831cf675667a8b": {
     "model_module": "@jupyter-widgets/controls",
     "model_module_version": "1.5.0",
     "model_name": "HTMLModel",
     "state": {
      "_dom_classes": [],
      "_model_module": "@jupyter-widgets/controls",
      "_model_module_version": "1.5.0",
      "_model_name": "HTMLModel",
      "_view_count": null,
      "_view_module": "@jupyter-widgets/controls",
      "_view_module_version": "1.5.0",
      "_view_name": "HTMLView",
      "description": "",
      "description_tooltip": null,
      "layout": "IPY_MODEL_b940d7f2594c4a7bb7c158faf0753006",
      "placeholder": "​",
      "style": "IPY_MODEL_d989f252f62b4f1ea6ea872bb40ebf66",
      "value": " 714M/714M [00:02&lt;00:00, 264MB/s]"
     }
    },
    "b261c45a827d4d17a9b9f303b27fc70c": {
     "model_module": "@jupyter-widgets/controls",
     "model_module_version": "1.5.0",
     "model_name": "HTMLModel",
     "state": {
      "_dom_classes": [],
      "_model_module": "@jupyter-widgets/controls",
      "_model_module_version": "1.5.0",
      "_model_name": "HTMLModel",
      "_view_count": null,
      "_view_module": "@jupyter-widgets/controls",
      "_view_module_version": "1.5.0",
      "_view_name": "HTMLView",
      "description": "",
      "description_tooltip": null,
      "layout": "IPY_MODEL_3cf04f92e59e4d0ea11e811220fcfb1f",
      "placeholder": "​",
      "style": "IPY_MODEL_3ca6c6446a0e42c88fa180d2a692dd25",
      "value": " 29.0/29.0 [00:00&lt;00:00, 430B/s]"
     }
    },
    "b32a76de65de40a7bef6175aaad1b54e": {
     "model_module": "@jupyter-widgets/base",
     "model_module_version": "1.2.0",
     "model_name": "LayoutModel",
     "state": {
      "_model_module": "@jupyter-widgets/base",
      "_model_module_version": "1.2.0",
      "_model_name": "LayoutModel",
      "_view_count": null,
      "_view_module": "@jupyter-widgets/base",
      "_view_module_version": "1.2.0",
      "_view_name": "LayoutView",
      "align_content": null,
      "align_items": null,
      "align_self": null,
      "border": null,
      "bottom": null,
      "display": null,
      "flex": null,
      "flex_flow": null,
      "grid_area": null,
      "grid_auto_columns": null,
      "grid_auto_flow": null,
      "grid_auto_rows": null,
      "grid_column": null,
      "grid_gap": null,
      "grid_row": null,
      "grid_template_areas": null,
      "grid_template_columns": null,
      "grid_template_rows": null,
      "height": null,
      "justify_content": null,
      "justify_items": null,
      "left": null,
      "margin": null,
      "max_height": null,
      "max_width": null,
      "min_height": null,
      "min_width": null,
      "object_fit": null,
      "object_position": null,
      "order": null,
      "overflow": null,
      "overflow_x": null,
      "overflow_y": null,
      "padding": null,
      "right": null,
      "top": null,
      "visibility": null,
      "width": null
     }
    },
    "b877b4212f3644f4bdee09279e093a74": {
     "model_module": "@jupyter-widgets/controls",
     "model_module_version": "1.5.0",
     "model_name": "ProgressStyleModel",
     "state": {
      "_model_module": "@jupyter-widgets/controls",
      "_model_module_version": "1.5.0",
      "_model_name": "ProgressStyleModel",
      "_view_count": null,
      "_view_module": "@jupyter-widgets/base",
      "_view_module_version": "1.2.0",
      "_view_name": "StyleView",
      "bar_color": null,
      "description_width": ""
     }
    },
    "b940d7f2594c4a7bb7c158faf0753006": {
     "model_module": "@jupyter-widgets/base",
     "model_module_version": "1.2.0",
     "model_name": "LayoutModel",
     "state": {
      "_model_module": "@jupyter-widgets/base",
      "_model_module_version": "1.2.0",
      "_model_name": "LayoutModel",
      "_view_count": null,
      "_view_module": "@jupyter-widgets/base",
      "_view_module_version": "1.2.0",
      "_view_name": "LayoutView",
      "align_content": null,
      "align_items": null,
      "align_self": null,
      "border": null,
      "bottom": null,
      "display": null,
      "flex": null,
      "flex_flow": null,
      "grid_area": null,
      "grid_auto_columns": null,
      "grid_auto_flow": null,
      "grid_auto_rows": null,
      "grid_column": null,
      "grid_gap": null,
      "grid_row": null,
      "grid_template_areas": null,
      "grid_template_columns": null,
      "grid_template_rows": null,
      "height": null,
      "justify_content": null,
      "justify_items": null,
      "left": null,
      "margin": null,
      "max_height": null,
      "max_width": null,
      "min_height": null,
      "min_width": null,
      "object_fit": null,
      "object_position": null,
      "order": null,
      "overflow": null,
      "overflow_x": null,
      "overflow_y": null,
      "padding": null,
      "right": null,
      "top": null,
      "visibility": null,
      "width": null
     }
    },
    "bb2887c68abc4e069248cc8d23f8518e": {
     "model_module": "@jupyter-widgets/controls",
     "model_module_version": "1.5.0",
     "model_name": "HBoxModel",
     "state": {
      "_dom_classes": [],
      "_model_module": "@jupyter-widgets/controls",
      "_model_module_version": "1.5.0",
      "_model_name": "HBoxModel",
      "_view_count": null,
      "_view_module": "@jupyter-widgets/controls",
      "_view_module_version": "1.5.0",
      "_view_name": "HBoxView",
      "box_style": "",
      "children": [
       "IPY_MODEL_f396cbe020ea4007af05069fa3a2539e",
       "IPY_MODEL_85201fa8bb524ac89f4c3cc56b4ac527",
       "IPY_MODEL_f7263795e618489395f8a40b6d614110"
      ],
      "layout": "IPY_MODEL_3e5dfe68a900419fa798bb3f61947f51"
     }
    },
    "bd187cf78fd5465da119f6a632531f8d": {
     "model_module": "@jupyter-widgets/base",
     "model_module_version": "1.2.0",
     "model_name": "LayoutModel",
     "state": {
      "_model_module": "@jupyter-widgets/base",
      "_model_module_version": "1.2.0",
      "_model_name": "LayoutModel",
      "_view_count": null,
      "_view_module": "@jupyter-widgets/base",
      "_view_module_version": "1.2.0",
      "_view_name": "LayoutView",
      "align_content": null,
      "align_items": null,
      "align_self": null,
      "border": null,
      "bottom": null,
      "display": null,
      "flex": null,
      "flex_flow": null,
      "grid_area": null,
      "grid_auto_columns": null,
      "grid_auto_flow": null,
      "grid_auto_rows": null,
      "grid_column": null,
      "grid_gap": null,
      "grid_row": null,
      "grid_template_areas": null,
      "grid_template_columns": null,
      "grid_template_rows": null,
      "height": null,
      "justify_content": null,
      "justify_items": null,
      "left": null,
      "margin": null,
      "max_height": null,
      "max_width": null,
      "min_height": null,
      "min_width": null,
      "object_fit": null,
      "object_position": null,
      "order": null,
      "overflow": null,
      "overflow_x": null,
      "overflow_y": null,
      "padding": null,
      "right": null,
      "top": null,
      "visibility": null,
      "width": null
     }
    },
    "c1598ad91c7d48fba159588ec3b5b730": {
     "model_module": "@jupyter-widgets/base",
     "model_module_version": "1.2.0",
     "model_name": "LayoutModel",
     "state": {
      "_model_module": "@jupyter-widgets/base",
      "_model_module_version": "1.2.0",
      "_model_name": "LayoutModel",
      "_view_count": null,
      "_view_module": "@jupyter-widgets/base",
      "_view_module_version": "1.2.0",
      "_view_name": "LayoutView",
      "align_content": null,
      "align_items": null,
      "align_self": null,
      "border": null,
      "bottom": null,
      "display": null,
      "flex": null,
      "flex_flow": null,
      "grid_area": null,
      "grid_auto_columns": null,
      "grid_auto_flow": null,
      "grid_auto_rows": null,
      "grid_column": null,
      "grid_gap": null,
      "grid_row": null,
      "grid_template_areas": null,
      "grid_template_columns": null,
      "grid_template_rows": null,
      "height": null,
      "justify_content": null,
      "justify_items": null,
      "left": null,
      "margin": null,
      "max_height": null,
      "max_width": null,
      "min_height": null,
      "min_width": null,
      "object_fit": null,
      "object_position": null,
      "order": null,
      "overflow": null,
      "overflow_x": null,
      "overflow_y": null,
      "padding": null,
      "right": null,
      "top": null,
      "visibility": null,
      "width": null
     }
    },
    "c2eab3ddde614c8787bfb494ec8a1324": {
     "model_module": "@jupyter-widgets/controls",
     "model_module_version": "1.5.0",
     "model_name": "HBoxModel",
     "state": {
      "_dom_classes": [],
      "_model_module": "@jupyter-widgets/controls",
      "_model_module_version": "1.5.0",
      "_model_name": "HBoxModel",
      "_view_count": null,
      "_view_module": "@jupyter-widgets/controls",
      "_view_module_version": "1.5.0",
      "_view_name": "HBoxView",
      "box_style": "",
      "children": [
       "IPY_MODEL_cc7f9d3c9b754021945f842fd9ea5678",
       "IPY_MODEL_9e2c68466e324eb2a80fb17e666fefa4",
       "IPY_MODEL_b261c45a827d4d17a9b9f303b27fc70c"
      ],
      "layout": "IPY_MODEL_0796bd1a1178474084a3508086b7bc50"
     }
    },
    "c68f663979074d5db0a65f2ba2a12e84": {
     "model_module": "@jupyter-widgets/base",
     "model_module_version": "1.2.0",
     "model_name": "LayoutModel",
     "state": {
      "_model_module": "@jupyter-widgets/base",
      "_model_module_version": "1.2.0",
      "_model_name": "LayoutModel",
      "_view_count": null,
      "_view_module": "@jupyter-widgets/base",
      "_view_module_version": "1.2.0",
      "_view_name": "LayoutView",
      "align_content": null,
      "align_items": null,
      "align_self": null,
      "border": null,
      "bottom": null,
      "display": null,
      "flex": null,
      "flex_flow": null,
      "grid_area": null,
      "grid_auto_columns": null,
      "grid_auto_flow": null,
      "grid_auto_rows": null,
      "grid_column": null,
      "grid_gap": null,
      "grid_row": null,
      "grid_template_areas": null,
      "grid_template_columns": null,
      "grid_template_rows": null,
      "height": null,
      "justify_content": null,
      "justify_items": null,
      "left": null,
      "margin": null,
      "max_height": null,
      "max_width": null,
      "min_height": null,
      "min_width": null,
      "object_fit": null,
      "object_position": null,
      "order": null,
      "overflow": null,
      "overflow_x": null,
      "overflow_y": null,
      "padding": null,
      "right": null,
      "top": null,
      "visibility": null,
      "width": null
     }
    },
    "c8f111bf603743c4bb1d8ccb2ac9a319": {
     "model_module": "@jupyter-widgets/controls",
     "model_module_version": "1.5.0",
     "model_name": "HBoxModel",
     "state": {
      "_dom_classes": [],
      "_model_module": "@jupyter-widgets/controls",
      "_model_module_version": "1.5.0",
      "_model_name": "HBoxModel",
      "_view_count": null,
      "_view_module": "@jupyter-widgets/controls",
      "_view_module_version": "1.5.0",
      "_view_name": "HBoxView",
      "box_style": "",
      "children": [
       "IPY_MODEL_38acafca52a443c89477e25fa810cdd0",
       "IPY_MODEL_03cba694c2be41b8b7b7d85d957f5822",
       "IPY_MODEL_a807bd1f76954bbf95831cf675667a8b"
      ],
      "layout": "IPY_MODEL_4e2d8d5f1f924f6d89ccfdc7d6380f6d"
     }
    },
    "cc7f9d3c9b754021945f842fd9ea5678": {
     "model_module": "@jupyter-widgets/controls",
     "model_module_version": "1.5.0",
     "model_name": "HTMLModel",
     "state": {
      "_dom_classes": [],
      "_model_module": "@jupyter-widgets/controls",
      "_model_module_version": "1.5.0",
      "_model_name": "HTMLModel",
      "_view_count": null,
      "_view_module": "@jupyter-widgets/controls",
      "_view_module_version": "1.5.0",
      "_view_name": "HTMLView",
      "description": "",
      "description_tooltip": null,
      "layout": "IPY_MODEL_bd187cf78fd5465da119f6a632531f8d",
      "placeholder": "​",
      "style": "IPY_MODEL_0e41ee2406ed44379f1cd8c86eb96a1c",
      "value": "Downloading (…)okenizer_config.json: 100%"
     }
    },
    "d20aded60fab487888e0d1899ff022a9": {
     "model_module": "@jupyter-widgets/base",
     "model_module_version": "1.2.0",
     "model_name": "LayoutModel",
     "state": {
      "_model_module": "@jupyter-widgets/base",
      "_model_module_version": "1.2.0",
      "_model_name": "LayoutModel",
      "_view_count": null,
      "_view_module": "@jupyter-widgets/base",
      "_view_module_version": "1.2.0",
      "_view_name": "LayoutView",
      "align_content": null,
      "align_items": null,
      "align_self": null,
      "border": null,
      "bottom": null,
      "display": null,
      "flex": null,
      "flex_flow": null,
      "grid_area": null,
      "grid_auto_columns": null,
      "grid_auto_flow": null,
      "grid_auto_rows": null,
      "grid_column": null,
      "grid_gap": null,
      "grid_row": null,
      "grid_template_areas": null,
      "grid_template_columns": null,
      "grid_template_rows": null,
      "height": null,
      "justify_content": null,
      "justify_items": null,
      "left": null,
      "margin": null,
      "max_height": null,
      "max_width": null,
      "min_height": null,
      "min_width": null,
      "object_fit": null,
      "object_position": null,
      "order": null,
      "overflow": null,
      "overflow_x": null,
      "overflow_y": null,
      "padding": null,
      "right": null,
      "top": null,
      "visibility": null,
      "width": null
     }
    },
    "d989f252f62b4f1ea6ea872bb40ebf66": {
     "model_module": "@jupyter-widgets/controls",
     "model_module_version": "1.5.0",
     "model_name": "DescriptionStyleModel",
     "state": {
      "_model_module": "@jupyter-widgets/controls",
      "_model_module_version": "1.5.0",
      "_model_name": "DescriptionStyleModel",
      "_view_count": null,
      "_view_module": "@jupyter-widgets/base",
      "_view_module_version": "1.2.0",
      "_view_name": "StyleView",
      "description_width": ""
     }
    },
    "e310b06a0e384746ab04515ba0d008fd": {
     "model_module": "@jupyter-widgets/controls",
     "model_module_version": "1.5.0",
     "model_name": "ProgressStyleModel",
     "state": {
      "_model_module": "@jupyter-widgets/controls",
      "_model_module_version": "1.5.0",
      "_model_name": "ProgressStyleModel",
      "_view_count": null,
      "_view_module": "@jupyter-widgets/base",
      "_view_module_version": "1.2.0",
      "_view_name": "StyleView",
      "bar_color": null,
      "description_width": ""
     }
    },
    "f1c58b21e6d2403581583ce027d60404": {
     "model_module": "@jupyter-widgets/controls",
     "model_module_version": "1.5.0",
     "model_name": "HBoxModel",
     "state": {
      "_dom_classes": [],
      "_model_module": "@jupyter-widgets/controls",
      "_model_module_version": "1.5.0",
      "_model_name": "HBoxModel",
      "_view_count": null,
      "_view_module": "@jupyter-widgets/controls",
      "_view_module_version": "1.5.0",
      "_view_name": "HBoxView",
      "box_style": "",
      "children": [
       "IPY_MODEL_60208499c1bd4e6caddcce8b6dd5b0f7",
       "IPY_MODEL_2f779394a4094a308703917991723f91",
       "IPY_MODEL_616752760be7463bae3a8d9a47be9039"
      ],
      "layout": "IPY_MODEL_40a5fbbfc5d74932bcd27b6f2d124a1d"
     }
    },
    "f396cbe020ea4007af05069fa3a2539e": {
     "model_module": "@jupyter-widgets/controls",
     "model_module_version": "1.5.0",
     "model_name": "HTMLModel",
     "state": {
      "_dom_classes": [],
      "_model_module": "@jupyter-widgets/controls",
      "_model_module_version": "1.5.0",
      "_model_name": "HTMLModel",
      "_view_count": null,
      "_view_module": "@jupyter-widgets/controls",
      "_view_module_version": "1.5.0",
      "_view_name": "HTMLView",
      "description": "",
      "description_tooltip": null,
      "layout": "IPY_MODEL_c68f663979074d5db0a65f2ba2a12e84",
      "placeholder": "​",
      "style": "IPY_MODEL_269f807082ca4bbaa1f5284adc020e42",
      "value": "Downloading (…)solve/main/vocab.txt: 100%"
     }
    },
    "f3ff15907b39426794408d0391a36181": {
     "model_module": "@jupyter-widgets/base",
     "model_module_version": "1.2.0",
     "model_name": "LayoutModel",
     "state": {
      "_model_module": "@jupyter-widgets/base",
      "_model_module_version": "1.2.0",
      "_model_name": "LayoutModel",
      "_view_count": null,
      "_view_module": "@jupyter-widgets/base",
      "_view_module_version": "1.2.0",
      "_view_name": "LayoutView",
      "align_content": null,
      "align_items": null,
      "align_self": null,
      "border": null,
      "bottom": null,
      "display": null,
      "flex": null,
      "flex_flow": null,
      "grid_area": null,
      "grid_auto_columns": null,
      "grid_auto_flow": null,
      "grid_auto_rows": null,
      "grid_column": null,
      "grid_gap": null,
      "grid_row": null,
      "grid_template_areas": null,
      "grid_template_columns": null,
      "grid_template_rows": null,
      "height": null,
      "justify_content": null,
      "justify_items": null,
      "left": null,
      "margin": null,
      "max_height": null,
      "max_width": null,
      "min_height": null,
      "min_width": null,
      "object_fit": null,
      "object_position": null,
      "order": null,
      "overflow": null,
      "overflow_x": null,
      "overflow_y": null,
      "padding": null,
      "right": null,
      "top": null,
      "visibility": null,
      "width": null
     }
    },
    "f7263795e618489395f8a40b6d614110": {
     "model_module": "@jupyter-widgets/controls",
     "model_module_version": "1.5.0",
     "model_name": "HTMLModel",
     "state": {
      "_dom_classes": [],
      "_model_module": "@jupyter-widgets/controls",
      "_model_module_version": "1.5.0",
      "_model_name": "HTMLModel",
      "_view_count": null,
      "_view_module": "@jupyter-widgets/controls",
      "_view_module_version": "1.5.0",
      "_view_name": "HTMLView",
      "description": "",
      "description_tooltip": null,
      "layout": "IPY_MODEL_27489400ce6e45b697e8037d5bdee4d0",
      "placeholder": "​",
      "style": "IPY_MODEL_a1bb0304c441483ba2e76eb031ac8566",
      "value": " 996k/996k [00:01&lt;00:00, 899kB/s]"
     }
    }
   }
  }
 },
 "nbformat": 4,
 "nbformat_minor": 1
}
